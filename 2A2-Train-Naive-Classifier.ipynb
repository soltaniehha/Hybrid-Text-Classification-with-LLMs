{
 "cells": [
  {
   "cell_type": "markdown",
   "metadata": {
    "id": "TpaqyYgaE5MN"
   },
   "source": [
    " # Step 2A2: Train Naive Classifier\n",
    "\n",
    "\n",
    "\n",
    " Train a neural network classifier on synthetic tweets using a two-phase approach:\n",
    "\n",
    "\n",
    "\n",
    " 1. Data: Load synthetic dataset, generate embeddings (all-MiniLM-L6-v2), split 80/20\n",
    "\n",
    " 2. Training:\n",
    "\n",
    "    - Phase 1: Find optimal epochs with early stopping (10% validation)\n",
    "\n",
    "    - Phase 2: Full training with best epochs\n",
    "\n",
    "    - Architecture: Dense(64) → Dropout(0.5) → Dense(32) → Dropout(0.5) → Dense(2)\n",
    "\n",
    " 3. Evaluation: Classification metrics, confusion matrix, example predictions\n",
    "\n",
    " 4. Save: Model and label encoder to './models/'\n",
    "\n",
    "\n",
    "\n",
    " The classifier will help identify label inconsistencies in the original dataset."
   ]
  },
  {
   "cell_type": "code",
   "execution_count": 1,
   "metadata": {
    "id": "Zo3dcpeXE5MP"
   },
   "outputs": [
    {
     "name": "stderr",
     "output_type": "stream",
     "text": [
      "/opt/anaconda3/envs/text_class/lib/python3.12/site-packages/tqdm/auto.py:21: TqdmWarning: IProgress not found. Please update jupyter and ipywidgets. See https://ipywidgets.readthedocs.io/en/stable/user_install.html\n",
      "  from .autonotebook import tqdm as notebook_tqdm\n"
     ]
    }
   ],
   "source": [
    "# Import necessary libraries\n",
    "import os\n",
    "import pandas as pd\n",
    "import numpy as np\n",
    "from sklearn.model_selection import train_test_split\n",
    "from sklearn.preprocessing import LabelEncoder\n",
    "from sklearn.metrics import classification_report, confusion_matrix\n",
    "import matplotlib.pyplot as plt\n",
    "import seaborn as sns\n",
    "from tqdm import tqdm\n",
    "import keras\n",
    "from keras import layers, models, optimizers, callbacks\n",
    "from sentence_transformers import SentenceTransformer\n"
   ]
  },
  {
   "cell_type": "code",
   "execution_count": null,
   "metadata": {
    "colab": {
     "base_uri": "https://localhost:8080/"
    },
    "executionInfo": {
     "elapsed": 8,
     "status": "ok",
     "timestamp": 1747113640637,
     "user": {
      "displayName": "Mohammad Soltanieh Ha",
      "userId": "12308918870841825745"
     },
     "user_tz": 240
    },
    "id": "0w9A7i9LE5MQ",
    "outputId": "6bd990a7-28ab-462f-f528-8565fe23fca4"
   },
   "outputs": [
    {
     "name": "stdout",
     "output_type": "stream",
     "text": [
      "Loading data...\n"
     ]
    }
   ],
   "source": [
    "# Load the data\n",
    "print(\"Loading data...\")\n",
    "data = pd.read_csv('synthetic_tweets.csv')\n"
   ]
  },
  {
   "cell_type": "code",
   "execution_count": 3,
   "metadata": {
    "colab": {
     "base_uri": "https://localhost:8080/",
     "height": 476,
     "referenced_widgets": [
      "ca05d52a42674c598bb0d88234558042",
      "9fdaa2d027c5487f8594e72453e286bc",
      "154b78ac258e4f39a0ff7dee5ce08b13",
      "9a98fc51675c4771a75c0c4429049238",
      "3307cc171bdf40ac9a8cb1c7a6021e7e",
      "effed32d67bb4def944e912e9b2eb97e",
      "36f22a0bcbc54af1a3376d5363e13988",
      "99bc0c9a3c124e56bffc3617ab832174",
      "2eb9e80a06b74290bf74702b4ff74aab",
      "f9c0fd2b222f4989bc8dca460656219d",
      "14f6a8ec4f4d4211ad5e9e9155dce62b",
      "f300622380584d21b184595bf5de2067",
      "8b13cd4363b749eb8ba30aa95a67a0e8",
      "c765b6c9a2ae4bdfb086bdedccef7cac",
      "2167aa1c54304ffba335d62adc8e2444",
      "08f018dd19fb40faa96a7fcf324c79b5",
      "c41fee352d1b4a729b52dc065a14173f",
      "73ed06d9e2854a608c43d8650fafdc93",
      "3eae19fd00394cc38fd52c0905bf34a8",
      "0f820d6003014abfbb2e90a34123ee42",
      "851d760f2608413f9e673a8a2f2e4b08",
      "8b1753c2e1034195bc125256e06c72ed",
      "daf5dce815724b91b48a73911813360c",
      "462d765ebf334d2a956f5c86690038ea",
      "a061c84b88d845e39cfce6f16b0a00ea",
      "e2001ab4bf52435196f9072f3eaa749a",
      "68d8193a94be4ae98ac50b6fb15938fe",
      "f1099ad478c34d0cbe4c8a062e029dff",
      "533a97c0c92f461b80f9873bfc4561f6",
      "33d5229a6a68483384c13aeb9c07130e",
      "400aab44c76845038ee911e2dbfd2af7",
      "81e5dd0edade4a019a6a82a40aa68ceb",
      "7a08152be1484a85a76b970581a2c3f6",
      "0cb00b32313c4932948b0f6aed46d89e",
      "3461ffc1becc4fab8bad31638f3835cd",
      "140feee490bd4fddb2689509f1e06bec",
      "09f642995ab6483aa3bb98e42951f250",
      "050b47e863fd43e9aad9d70dfb9b9e84",
      "1e19cfa50d3e4ab2a764277d597eb360",
      "5acbb801a4b045489329c15168e789ce",
      "0b5346042a07469cab782343b3b4dbae",
      "38d84a8e5d6c4c7abd8e14f7405a2723",
      "8839d43ad7464558b0d62cd799c2ec80",
      "ada69504a5a6460d867f83aa920232c5",
      "19514ef3c2924a419e42546f7b2c3cff",
      "a0dd00e101ed4258b7b26be5b59c20b6",
      "d1d5f4ba62374965875b287523922126",
      "3ee5478e36e74391820a6d4d4e8718f7",
      "5be278d65c324e87b61d7bfae36534e5",
      "8bf9624a77554e4fb317a7964aaf90b3",
      "f31f2b0383d8471f9676313815549d64",
      "a4ba485db0e3449888363f4705cd05ed",
      "6a3874e483ef443f9800cffb43740406",
      "e96cee6b8cce4c2aafe110acdd2b84e7",
      "e228c5af809d47f4918f526d145c6d59",
      "5f92ae7bdb0c4f9c9c5194afb253cd33",
      "149bf062f63549e38dd18deeebb004d3",
      "ba63015e2d944f209ee5b9fd153af1c0",
      "ae058716df894912b02f9fb9d8274736",
      "239610ce99684d80a8054d448870b614",
      "9a66589d87cd4be39c3eecba94251224",
      "95410266195448119f65da437e20f8f0",
      "b019e1b4372b41d2995369d161de6dee",
      "e6dd533c6a6341ed8be1170abd2684f6",
      "3a0136817b864ee78a596578d1b0ae1c",
      "261f6c44e2ba4f89ba06db89a7056a8b",
      "9ac3838504f44e7484d6848bd902b70c",
      "d1fcb36016e14ad38fcd919f354a555c",
      "5d4835b5cc864bb5bb9fe5e2ddf9e0e5",
      "aa735995fd0546aeb38ca664f60dc557",
      "21f4008961674d71bfeafeb02b4521b0",
      "363acc1020d7477ba727e8b20ae65284",
      "6503c5e2026141a496873022c119b1a6",
      "848930a9bcf94a96b833f7bbba0691c2",
      "b63ed9e73686443790072681545c4027",
      "34c53b0427ca474a85b80001d6605256",
      "65161872142c4e35b2eb563ae6a189eb",
      "03a988744cdc44e0a5bf7677d050eb71",
      "2d144cb525d34e63b262883ae6fe5ff9",
      "c788fae5f41c4d828bc6dcb6ebf7a416",
      "88867b8bc2bd4220b3dd94677933420d",
      "79a50a4619024a7d9150e293c293fe05",
      "e0a29f58d67d446890deff696a3c2247",
      "0a152d059ee64f5ca093aaee265be137",
      "1e370117f60f4d1b9c8c8c5802a036fb",
      "abb7d2da8f374a64b13fa7a897d9e168",
      "dda9c51665484ddc9dde2529b175f313",
      "72aeeae80e5842d392a039899ae634a8",
      "ae0d6dc8314c43b5932a8714130e6f8e",
      "b6e8b4d013884ca19128f649ca19790c",
      "46756382bf4b4661beca26a65734a536",
      "4da10ae304f14360bce526f385c9e018",
      "10f1bc782b52461aa34e7184e04623f2",
      "a888b7396ab44b75ad0d3c536602da96",
      "c7cdf77f7f7d4fd5b5c87cdf6cf175eb",
      "ee4d6c8bae2c4aefb872d345fc715dcf",
      "6edb5075c0974670b90444e7a5828e3e",
      "7081268cb7da4a458333e37288ff7faf",
      "6a13f8ec227a406e836f7369f07bd6a1",
      "84b67596effb4a74b0c9fa4b24ada055",
      "73fceeb7ea2d4aa5aa4f57cf355b8c9b",
      "e27821e9a1d7419e87ed436379ae6d87",
      "edb9a7c64ccd437facc24f50a15d3075",
      "84932b6dcbf34bf2a85246d53ded452a",
      "3e8ac7dfddee485ab716c35cb592b5e2",
      "2ce9657258d5408e81b2aea0d3a2887d",
      "fe2e2842a55a49969ece0f883db1c74e",
      "68d3d637e12c4c1b819790f2f03a58be",
      "a62d850e40e94884a60081601132fef6",
      "15fe7759ce77492a89da11a4fffc9fdd",
      "3315528d21084f03a9fb06dea4ff5143",
      "761bad5a50bc4d60a21050b67fc533f5",
      "8ed2c6ac13e944f6a58000afa904c742",
      "4e213dd94bcb484eae41a40c608a7636",
      "b54822c6c05a4dec89a3fefa760c2959",
      "fe9d650ac529407da25eaafcb34acc87",
      "1b653ddbccff4234a56ae46838ec95da",
      "1598edc7a93f4343b5fc89a2e8237675",
      "729d5085df844dffb1c4cd6569889290",
      "20d5fcfb95de4133b0ce78ab7b7a3fa5",
      "703bc815f6ea41c784564fe692ab9602"
     ]
    },
    "executionInfo": {
     "elapsed": 15225,
     "status": "ok",
     "timestamp": 1747113655867,
     "user": {
      "displayName": "Mohammad Soltanieh Ha",
      "userId": "12308918870841825745"
     },
     "user_tz": 240
    },
    "id": "pEKzcA55E5MQ",
    "outputId": "3009c7d6-a269-444d-abb7-41879a43e454"
   },
   "outputs": [
    {
     "name": "stdout",
     "output_type": "stream",
     "text": [
      "Loading sentence transformer model...\n"
     ]
    }
   ],
   "source": [
    "# Load sentence transformer model\n",
    "print(\"Loading sentence transformer model...\")\n",
    "ST_model = SentenceTransformer('all-MiniLM-L6-v2')\n"
   ]
  },
  {
   "cell_type": "code",
   "execution_count": 4,
   "metadata": {
    "colab": {
     "base_uri": "https://localhost:8080/"
    },
    "executionInfo": {
     "elapsed": 3677,
     "status": "ok",
     "timestamp": 1747113664116,
     "user": {
      "displayName": "Mohammad Soltanieh Ha",
      "userId": "12308918870841825745"
     },
     "user_tz": 240
    },
    "id": "kvfGBFiLE5MQ",
    "outputId": "34e965bc-0182-42c7-e9e9-ad02f6bcd526"
   },
   "outputs": [
    {
     "name": "stdout",
     "output_type": "stream",
     "text": [
      "Generating text embeddings...\n"
     ]
    },
    {
     "name": "stderr",
     "output_type": "stream",
     "text": [
      "100%|██████████| 157/157 [00:05<00:00, 28.49it/s]\n"
     ]
    }
   ],
   "source": [
    "# Generate embeddings for the text\n",
    "print(\"Generating text embeddings...\")\n",
    "batch_size = 32\n",
    "embeddings = []\n",
    "\n",
    "for i in tqdm(range(0, len(data), batch_size)):\n",
    "    batch = data['text'].iloc[i:i+batch_size].tolist()\n",
    "    batch_embed = ST_model.encode(batch)\n",
    "    embeddings.extend(batch_embed)\n",
    "\n",
    "# Convert embeddings to numpy array\n",
    "X = np.array(embeddings)\n",
    "\n",
    "# Convert labels to numeric values\n",
    "le = LabelEncoder()\n",
    "y = le.fit_transform(data['label'])\n",
    "\n",
    "# Split the data into training and testing sets\n",
    "X_train, X_test, y_train, y_test = train_test_split(\n",
    "    X, y, test_size=0.2, random_state=42\n",
    ")\n"
   ]
  },
  {
   "cell_type": "code",
   "execution_count": 5,
   "metadata": {
    "colab": {
     "base_uri": "https://localhost:8080/",
     "height": 1000
    },
    "executionInfo": {
     "elapsed": 20270,
     "status": "ok",
     "timestamp": 1747113804662,
     "user": {
      "displayName": "Mohammad Soltanieh Ha",
      "userId": "12308918870841825745"
     },
     "user_tz": 240
    },
    "id": "fGqItl9YE5MR",
    "outputId": "f21265b8-cf3d-4f37-cf63-07909442a62e"
   },
   "outputs": [
    {
     "name": "stdout",
     "output_type": "stream",
     "text": [
      "Finding best number of epochs with early stopping...\n",
      "Epoch 1/50\n"
     ]
    },
    {
     "name": "stderr",
     "output_type": "stream",
     "text": [
      "/opt/anaconda3/envs/text_class/lib/python3.12/site-packages/keras/src/layers/core/dense.py:87: UserWarning: Do not pass an `input_shape`/`input_dim` argument to a layer. When using Sequential models, prefer using an `Input(shape)` object as the first layer in the model instead.\n",
      "  super().__init__(activity_regularizer=activity_regularizer, **kwargs)\n"
     ]
    },
    {
     "name": "stdout",
     "output_type": "stream",
     "text": [
      "\u001b[1m113/113\u001b[0m \u001b[32m━━━━━━━━━━━━━━━━━━━━\u001b[0m\u001b[37m\u001b[0m \u001b[1m1s\u001b[0m 2ms/step - accuracy: 0.5813 - loss: 0.6798 - val_accuracy: 0.7382 - val_loss: 0.6063\n",
      "Epoch 2/50\n",
      "\u001b[1m113/113\u001b[0m \u001b[32m━━━━━━━━━━━━━━━━━━━━\u001b[0m\u001b[37m\u001b[0m \u001b[1m0s\u001b[0m 838us/step - accuracy: 0.6684 - loss: 0.6092 - val_accuracy: 0.8055 - val_loss: 0.5067\n",
      "Epoch 3/50\n",
      "\u001b[1m113/113\u001b[0m \u001b[32m━━━━━━━━━━━━━━━━━━━━\u001b[0m\u001b[37m\u001b[0m \u001b[1m0s\u001b[0m 890us/step - accuracy: 0.7211 - loss: 0.5374 - val_accuracy: 0.8254 - val_loss: 0.4245\n",
      "Epoch 4/50\n",
      "\u001b[1m113/113\u001b[0m \u001b[32m━━━━━━━━━━━━━━━━━━━━\u001b[0m\u001b[37m\u001b[0m \u001b[1m0s\u001b[0m 877us/step - accuracy: 0.7948 - loss: 0.4724 - val_accuracy: 0.8429 - val_loss: 0.3765\n",
      "Epoch 5/50\n",
      "\u001b[1m113/113\u001b[0m \u001b[32m━━━━━━━━━━━━━━━━━━━━\u001b[0m\u001b[37m\u001b[0m \u001b[1m0s\u001b[0m 875us/step - accuracy: 0.8184 - loss: 0.4234 - val_accuracy: 0.8504 - val_loss: 0.3646\n",
      "Epoch 6/50\n",
      "\u001b[1m113/113\u001b[0m \u001b[32m━━━━━━━━━━━━━━━━━━━━\u001b[0m\u001b[37m\u001b[0m \u001b[1m0s\u001b[0m 934us/step - accuracy: 0.8388 - loss: 0.3952 - val_accuracy: 0.8554 - val_loss: 0.3404\n",
      "Epoch 7/50\n",
      "\u001b[1m113/113\u001b[0m \u001b[32m━━━━━━━━━━━━━━━━━━━━\u001b[0m\u001b[37m\u001b[0m \u001b[1m0s\u001b[0m 870us/step - accuracy: 0.8504 - loss: 0.3751 - val_accuracy: 0.8479 - val_loss: 0.3296\n",
      "Epoch 8/50\n",
      "\u001b[1m113/113\u001b[0m \u001b[32m━━━━━━━━━━━━━━━━━━━━\u001b[0m\u001b[37m\u001b[0m \u001b[1m0s\u001b[0m 858us/step - accuracy: 0.8615 - loss: 0.3526 - val_accuracy: 0.8703 - val_loss: 0.3201\n",
      "Epoch 9/50\n",
      "\u001b[1m113/113\u001b[0m \u001b[32m━━━━━━━━━━━━━━━━━━━━\u001b[0m\u001b[37m\u001b[0m \u001b[1m0s\u001b[0m 843us/step - accuracy: 0.8588 - loss: 0.3535 - val_accuracy: 0.8579 - val_loss: 0.3258\n",
      "Epoch 10/50\n",
      "\u001b[1m113/113\u001b[0m \u001b[32m━━━━━━━━━━━━━━━━━━━━\u001b[0m\u001b[37m\u001b[0m \u001b[1m0s\u001b[0m 839us/step - accuracy: 0.8527 - loss: 0.3613 - val_accuracy: 0.8554 - val_loss: 0.3165\n",
      "Epoch 11/50\n",
      "\u001b[1m113/113\u001b[0m \u001b[32m━━━━━━━━━━━━━━━━━━━━\u001b[0m\u001b[37m\u001b[0m \u001b[1m0s\u001b[0m 858us/step - accuracy: 0.8765 - loss: 0.3371 - val_accuracy: 0.8554 - val_loss: 0.3113\n",
      "Epoch 12/50\n",
      "\u001b[1m113/113\u001b[0m \u001b[32m━━━━━━━━━━━━━━━━━━━━\u001b[0m\u001b[37m\u001b[0m \u001b[1m0s\u001b[0m 824us/step - accuracy: 0.8817 - loss: 0.3075 - val_accuracy: 0.8579 - val_loss: 0.3063\n",
      "Epoch 13/50\n",
      "\u001b[1m113/113\u001b[0m \u001b[32m━━━━━━━━━━━━━━━━━━━━\u001b[0m\u001b[37m\u001b[0m \u001b[1m0s\u001b[0m 945us/step - accuracy: 0.8909 - loss: 0.2852 - val_accuracy: 0.8529 - val_loss: 0.3142\n",
      "Epoch 14/50\n",
      "\u001b[1m113/113\u001b[0m \u001b[32m━━━━━━━━━━━━━━━━━━━━\u001b[0m\u001b[37m\u001b[0m \u001b[1m0s\u001b[0m 894us/step - accuracy: 0.8761 - loss: 0.3083 - val_accuracy: 0.8479 - val_loss: 0.3159\n",
      "Epoch 15/50\n",
      "\u001b[1m113/113\u001b[0m \u001b[32m━━━━━━━━━━━━━━━━━━━━\u001b[0m\u001b[37m\u001b[0m \u001b[1m0s\u001b[0m 880us/step - accuracy: 0.8960 - loss: 0.2898 - val_accuracy: 0.8529 - val_loss: 0.3085\n",
      "Best number of epochs found: 12\n"
     ]
    },
    {
     "data": {
      "image/png": "[encoded data removed]",
      "text/plain": [
       "<Figure size 1200x400 with 2 Axes>"
      ]
     },
     "metadata": {},
     "output_type": "display_data"
    },
    {
     "name": "stdout",
     "output_type": "stream",
     "text": [
      "Retraining on full training set for 12 epochs...\n",
      "Epoch 1/12\n",
      "\u001b[1m126/126\u001b[0m \u001b[32m━━━━━━━━━━━━━━━━━━━━\u001b[0m\u001b[37m\u001b[0m \u001b[1m0s\u001b[0m 737us/step - accuracy: 0.5558 - loss: 0.6796\n",
      "Epoch 2/12\n",
      "\u001b[1m126/126\u001b[0m \u001b[32m━━━━━━━━━━━━━━━━━━━━\u001b[0m\u001b[37m\u001b[0m \u001b[1m0s\u001b[0m 622us/step - accuracy: 0.6383 - loss: 0.6115\n",
      "Epoch 3/12\n",
      "\u001b[1m126/126\u001b[0m \u001b[32m━━━━━━━━━━━━━━━━━━━━\u001b[0m\u001b[37m\u001b[0m \u001b[1m0s\u001b[0m 636us/step - accuracy: 0.7758 - loss: 0.5188\n",
      "Epoch 4/12\n",
      "\u001b[1m126/126\u001b[0m \u001b[32m━━━━━━━━━━━━━━━━━━━━\u001b[0m\u001b[37m\u001b[0m \u001b[1m0s\u001b[0m 732us/step - accuracy: 0.7920 - loss: 0.4610\n",
      "Epoch 5/12\n",
      "\u001b[1m126/126\u001b[0m \u001b[32m━━━━━━━━━━━━━━━━━━━━\u001b[0m\u001b[37m\u001b[0m \u001b[1m0s\u001b[0m 636us/step - accuracy: 0.8163 - loss: 0.4215\n",
      "Epoch 6/12\n",
      "\u001b[1m126/126\u001b[0m \u001b[32m━━━━━━━━━━━━━━━━━━━━\u001b[0m\u001b[37m\u001b[0m \u001b[1m0s\u001b[0m 628us/step - accuracy: 0.8237 - loss: 0.3973\n",
      "Epoch 7/12\n",
      "\u001b[1m126/126\u001b[0m \u001b[32m━━━━━━━━━━━━━━━━━━━━\u001b[0m\u001b[37m\u001b[0m \u001b[1m0s\u001b[0m 642us/step - accuracy: 0.8378 - loss: 0.3887\n",
      "Epoch 8/12\n",
      "\u001b[1m126/126\u001b[0m \u001b[32m━━━━━━━━━━━━━━━━━━━━\u001b[0m\u001b[37m\u001b[0m \u001b[1m0s\u001b[0m 642us/step - accuracy: 0.8410 - loss: 0.3651\n",
      "Epoch 9/12\n",
      "\u001b[1m126/126\u001b[0m \u001b[32m━━━━━━━━━━━━━━━━━━━━\u001b[0m\u001b[37m\u001b[0m \u001b[1m0s\u001b[0m 669us/step - accuracy: 0.8480 - loss: 0.3506\n",
      "Epoch 10/12\n",
      "\u001b[1m126/126\u001b[0m \u001b[32m━━━━━━━━━━━━━━━━━━━━\u001b[0m\u001b[37m\u001b[0m \u001b[1m0s\u001b[0m 640us/step - accuracy: 0.8581 - loss: 0.3255\n",
      "Epoch 11/12\n",
      "\u001b[1m126/126\u001b[0m \u001b[32m━━━━━━━━━━━━━━━━━━━━\u001b[0m\u001b[37m\u001b[0m \u001b[1m0s\u001b[0m 651us/step - accuracy: 0.8589 - loss: 0.3326\n",
      "Epoch 12/12\n",
      "\u001b[1m126/126\u001b[0m \u001b[32m━━━━━━━━━━━━━━━━━━━━\u001b[0m\u001b[37m\u001b[0m \u001b[1m0s\u001b[0m 1ms/step - accuracy: 0.8730 - loss: 0.3049\n"
     ]
    },
    {
     "data": {
      "image/png": "[encoded data removed]",
      "text/plain": [
       "<Figure size 800x400 with 1 Axes>"
      ]
     },
     "metadata": {},
     "output_type": "display_data"
    }
   ],
   "source": [
    "# 1. Train with validation and early stopping to find best number of epochs\n",
    "print(\"Finding best number of epochs with early stopping...\")\n",
    "model_val = models.Sequential([\n",
    "    layers.Dense(32, activation='relu', input_shape=(X.shape[1],)),\n",
    "    layers.Dropout(0.5),\n",
    "    layers.Dense(8, activation='relu'),\n",
    "    layers.Dropout(0.5),\n",
    "    layers.Dense(2, activation='softmax')\n",
    "])\n",
    "model_val.compile(\n",
    "    optimizer=optimizers.Adam(learning_rate=1e-3),\n",
    "    loss='sparse_categorical_crossentropy',\n",
    "    metrics=['accuracy']\n",
    ")\n",
    "early_stop = callbacks.EarlyStopping(monitor='val_loss', patience=3, restore_best_weights=True)\n",
    "history_val = model_val.fit(\n",
    "    X_train, y_train,\n",
    "    epochs=50,\n",
    "    batch_size=32,\n",
    "    validation_split=0.1,\n",
    "    callbacks=[early_stop],\n",
    "    verbose=1\n",
    ")\n",
    "# Find the best epoch\n",
    "best_epoch = np.argmin(history_val.history['val_loss']) + 1\n",
    "print(f\"Best number of epochs found: {best_epoch}\")\n",
    "\n",
    "# Plot training and validation history after initial model\n",
    "plt.figure(figsize=(12, 4))\n",
    "plt.subplot(1, 2, 1)\n",
    "plt.plot(history_val.history['accuracy'], label='Training Accuracy')\n",
    "plt.plot(history_val.history['val_accuracy'], label='Validation Accuracy')\n",
    "plt.title('Model Accuracy (Validation Stage)')\n",
    "plt.xlabel('Epoch')\n",
    "plt.ylabel('Accuracy')\n",
    "plt.legend()\n",
    "\n",
    "plt.subplot(1, 2, 2)\n",
    "plt.plot(history_val.history['loss'], label='Training Loss')\n",
    "plt.plot(history_val.history['val_loss'], label='Validation Loss')\n",
    "plt.title('Model Loss (Validation Stage)')\n",
    "plt.xlabel('Epoch')\n",
    "plt.ylabel('Loss')\n",
    "plt.legend()\n",
    "plt.tight_layout()\n",
    "plt.show()\n",
    "\n",
    "# 2. Retrain on the full training set for the best number of epochs, no validation\n",
    "print(f\"Retraining on full training set for {best_epoch} epochs...\")\n",
    "model = models.Sequential([\n",
    "    layers.Dense(32, activation='relu', input_shape=(X.shape[1],)),\n",
    "    layers.Dropout(0.5),\n",
    "    layers.Dense(8, activation='relu'),\n",
    "    layers.Dropout(0.5),\n",
    "    layers.Dense(2, activation='softmax')  # 2 classes: literal and sarcastic\n",
    "])\n",
    "model.compile(\n",
    "    optimizer=optimizers.Adam(learning_rate=1e-3),\n",
    "    loss='sparse_categorical_crossentropy',\n",
    "    metrics=['accuracy']\n",
    ")\n",
    "history = model.fit(\n",
    "    X_train, y_train,\n",
    "    epochs=best_epoch,\n",
    "    batch_size=32,\n",
    "    verbose=1\n",
    ")\n",
    "\n",
    "# Plot only training metrics after retraining on full set\n",
    "plt.figure(figsize=(8, 4))\n",
    "plt.plot(history.history['accuracy'], label='Training Accuracy')\n",
    "plt.plot(history.history['loss'], label='Training Loss')\n",
    "plt.title('Final Model Training Metrics')\n",
    "plt.xlabel('Epoch')\n",
    "plt.legend()\n",
    "plt.tight_layout()\n",
    "plt.show()\n"
   ]
  },
  {
   "cell_type": "code",
   "execution_count": 6,
   "metadata": {
    "colab": {
     "base_uri": "https://localhost:8080/",
     "height": 314
    },
    "executionInfo": {
     "elapsed": 32,
     "status": "ok",
     "timestamp": 1747113771122,
     "user": {
      "displayName": "Mohammad Soltanieh Ha",
      "userId": "12308918870841825745"
     },
     "user_tz": 240
    },
    "id": "g_0KZBVuGG5P",
    "outputId": "5220d7f0-1fcf-452d-a3b5-14a90ca3bd35"
   },
   "outputs": [
    {
     "data": {
      "text/html": [
       "<pre style=\"white-space:pre;overflow-x:auto;line-height:normal;font-family:Menlo,'DejaVu Sans Mono',consolas,'Courier New',monospace\"><span style=\"font-weight: bold\">Model: \"sequential_1\"</span>\n",
       "</pre>\n"
      ],
      "text/plain": [
       "\u001b[1mModel: \"sequential_1\"\u001b[0m\n"
      ]
     },
     "metadata": {},
     "output_type": "display_data"
    },
    {
     "data": {
      "text/html": [
       "<pre style=\"white-space:pre;overflow-x:auto;line-height:normal;font-family:Menlo,'DejaVu Sans Mono',consolas,'Courier New',monospace\">┏━━━━━━━━━━━━━━━━━━━━━━━━━━━━━━━━━┳━━━━━━━━━━━━━━━━━━━━━━━━┳━━━━━━━━━━━━━━━┓\n",
       "┃<span style=\"font-weight: bold\"> Layer (type)                    </span>┃<span style=\"font-weight: bold\"> Output Shape           </span>┃<span style=\"font-weight: bold\">       Param # </span>┃\n",
       "┡━━━━━━━━━━━━━━━━━━━━━━━━━━━━━━━━━╇━━━━━━━━━━━━━━━━━━━━━━━━╇━━━━━━━━━━━━━━━┩\n",
       "│ dense_3 (<span style=\"color: #0087ff; text-decoration-color: #0087ff\">Dense</span>)                 │ (<span style=\"color: #00d7ff; text-decoration-color: #00d7ff\">None</span>, <span style=\"color: #00af00; text-decoration-color: #00af00\">32</span>)             │        <span style=\"color: #00af00; text-decoration-color: #00af00\">12,320</span> │\n",
       "├─────────────────────────────────┼────────────────────────┼───────────────┤\n",
       "│ dropout_2 (<span style=\"color: #0087ff; text-decoration-color: #0087ff\">Dropout</span>)             │ (<span style=\"color: #00d7ff; text-decoration-color: #00d7ff\">None</span>, <span style=\"color: #00af00; text-decoration-color: #00af00\">32</span>)             │             <span style=\"color: #00af00; text-decoration-color: #00af00\">0</span> │\n",
       "├─────────────────────────────────┼────────────────────────┼───────────────┤\n",
       "│ dense_4 (<span style=\"color: #0087ff; text-decoration-color: #0087ff\">Dense</span>)                 │ (<span style=\"color: #00d7ff; text-decoration-color: #00d7ff\">None</span>, <span style=\"color: #00af00; text-decoration-color: #00af00\">8</span>)              │           <span style=\"color: #00af00; text-decoration-color: #00af00\">264</span> │\n",
       "├─────────────────────────────────┼────────────────────────┼───────────────┤\n",
       "│ dropout_3 (<span style=\"color: #0087ff; text-decoration-color: #0087ff\">Dropout</span>)             │ (<span style=\"color: #00d7ff; text-decoration-color: #00d7ff\">None</span>, <span style=\"color: #00af00; text-decoration-color: #00af00\">8</span>)              │             <span style=\"color: #00af00; text-decoration-color: #00af00\">0</span> │\n",
       "├─────────────────────────────────┼────────────────────────┼───────────────┤\n",
       "│ dense_5 (<span style=\"color: #0087ff; text-decoration-color: #0087ff\">Dense</span>)                 │ (<span style=\"color: #00d7ff; text-decoration-color: #00d7ff\">None</span>, <span style=\"color: #00af00; text-decoration-color: #00af00\">2</span>)              │            <span style=\"color: #00af00; text-decoration-color: #00af00\">18</span> │\n",
       "└─────────────────────────────────┴────────────────────────┴───────────────┘\n",
       "</pre>\n"
      ],
      "text/plain": [
       "┏━━━━━━━━━━━━━━━━━━━━━━━━━━━━━━━━━┳━━━━━━━━━━━━━━━━━━━━━━━━┳━━━━━━━━━━━━━━━┓\n",
       "┃\u001b[1m \u001b[0m\u001b[1mLayer (type)                   \u001b[0m\u001b[1m \u001b[0m┃\u001b[1m \u001b[0m\u001b[1mOutput Shape          \u001b[0m\u001b[1m \u001b[0m┃\u001b[1m \u001b[0m\u001b[1m      Param #\u001b[0m\u001b[1m \u001b[0m┃\n",
       "┡━━━━━━━━━━━━━━━━━━━━━━━━━━━━━━━━━╇━━━━━━━━━━━━━━━━━━━━━━━━╇━━━━━━━━━━━━━━━┩\n",
       "│ dense_3 (\u001b[38;5;33mDense\u001b[0m)                 │ (\u001b[38;5;45mNone\u001b[0m, \u001b[38;5;34m32\u001b[0m)             │        \u001b[38;5;34m12,320\u001b[0m │\n",
       "├─────────────────────────────────┼────────────────────────┼───────────────┤\n",
       "│ dropout_2 (\u001b[38;5;33mDropout\u001b[0m)             │ (\u001b[38;5;45mNone\u001b[0m, \u001b[38;5;34m32\u001b[0m)             │             \u001b[38;5;34m0\u001b[0m │\n",
       "├─────────────────────────────────┼────────────────────────┼───────────────┤\n",
       "│ dense_4 (\u001b[38;5;33mDense\u001b[0m)                 │ (\u001b[38;5;45mNone\u001b[0m, \u001b[38;5;34m8\u001b[0m)              │           \u001b[38;5;34m264\u001b[0m │\n",
       "├─────────────────────────────────┼────────────────────────┼───────────────┤\n",
       "│ dropout_3 (\u001b[38;5;33mDropout\u001b[0m)             │ (\u001b[38;5;45mNone\u001b[0m, \u001b[38;5;34m8\u001b[0m)              │             \u001b[38;5;34m0\u001b[0m │\n",
       "├─────────────────────────────────┼────────────────────────┼───────────────┤\n",
       "│ dense_5 (\u001b[38;5;33mDense\u001b[0m)                 │ (\u001b[38;5;45mNone\u001b[0m, \u001b[38;5;34m2\u001b[0m)              │            \u001b[38;5;34m18\u001b[0m │\n",
       "└─────────────────────────────────┴────────────────────────┴───────────────┘\n"
      ]
     },
     "metadata": {},
     "output_type": "display_data"
    },
    {
     "data": {
      "text/html": [
       "<pre style=\"white-space:pre;overflow-x:auto;line-height:normal;font-family:Menlo,'DejaVu Sans Mono',consolas,'Courier New',monospace\"><span style=\"font-weight: bold\"> Total params: </span><span style=\"color: #00af00; text-decoration-color: #00af00\">37,808</span> (147.69 KB)\n",
       "</pre>\n"
      ],
      "text/plain": [
       "\u001b[1m Total params: \u001b[0m\u001b[38;5;34m37,808\u001b[0m (147.69 KB)\n"
      ]
     },
     "metadata": {},
     "output_type": "display_data"
    },
    {
     "data": {
      "text/html": [
       "<pre style=\"white-space:pre;overflow-x:auto;line-height:normal;font-family:Menlo,'DejaVu Sans Mono',consolas,'Courier New',monospace\"><span style=\"font-weight: bold\"> Trainable params: </span><span style=\"color: #00af00; text-decoration-color: #00af00\">12,602</span> (49.23 KB)\n",
       "</pre>\n"
      ],
      "text/plain": [
       "\u001b[1m Trainable params: \u001b[0m\u001b[38;5;34m12,602\u001b[0m (49.23 KB)\n"
      ]
     },
     "metadata": {},
     "output_type": "display_data"
    },
    {
     "data": {
      "text/html": [
       "<pre style=\"white-space:pre;overflow-x:auto;line-height:normal;font-family:Menlo,'DejaVu Sans Mono',consolas,'Courier New',monospace\"><span style=\"font-weight: bold\"> Non-trainable params: </span><span style=\"color: #00af00; text-decoration-color: #00af00\">0</span> (0.00 B)\n",
       "</pre>\n"
      ],
      "text/plain": [
       "\u001b[1m Non-trainable params: \u001b[0m\u001b[38;5;34m0\u001b[0m (0.00 B)\n"
      ]
     },
     "metadata": {},
     "output_type": "display_data"
    },
    {
     "data": {
      "text/html": [
       "<pre style=\"white-space:pre;overflow-x:auto;line-height:normal;font-family:Menlo,'DejaVu Sans Mono',consolas,'Courier New',monospace\"><span style=\"font-weight: bold\"> Optimizer params: </span><span style=\"color: #00af00; text-decoration-color: #00af00\">25,206</span> (98.46 KB)\n",
       "</pre>\n"
      ],
      "text/plain": [
       "\u001b[1m Optimizer params: \u001b[0m\u001b[38;5;34m25,206\u001b[0m (98.46 KB)\n"
      ]
     },
     "metadata": {},
     "output_type": "display_data"
    }
   ],
   "source": [
    "model.summary()"
   ]
  },
  {
   "cell_type": "code",
   "execution_count": 7,
   "metadata": {
    "colab": {
     "base_uri": "https://localhost:8080/"
    },
    "executionInfo": {
     "elapsed": 683,
     "status": "ok",
     "timestamp": 1747113826903,
     "user": {
      "displayName": "Mohammad Soltanieh Ha",
      "userId": "12308918870841825745"
     },
     "user_tz": 240
    },
    "id": "wj1aaJkgE5MR",
    "outputId": "a3a9f565-4078-414e-e48f-e7bfabb45faa"
   },
   "outputs": [
    {
     "name": "stdout",
     "output_type": "stream",
     "text": [
      "Evaluating model...\n",
      "\u001b[1m32/32\u001b[0m \u001b[32m━━━━━━━━━━━━━━━━━━━━\u001b[0m\u001b[37m\u001b[0m \u001b[1m0s\u001b[0m 1ms/step \n",
      "\n",
      "Classification Report:\n",
      "              precision    recall  f1-score   support\n",
      "\n",
      "     literal       0.86      0.85      0.86       475\n",
      "   sarcastic       0.87      0.87      0.87       526\n",
      "\n",
      "    accuracy                           0.86      1001\n",
      "   macro avg       0.86      0.86      0.86      1001\n",
      "weighted avg       0.86      0.86      0.86      1001\n",
      "\n"
     ]
    }
   ],
   "source": [
    "# Evaluate the model\n",
    "print(\"Evaluating model...\")\n",
    "y_pred_prob = model.predict(X_test)\n",
    "y_pred = np.argmax(y_pred_prob, axis=1)\n",
    "\n",
    "# Print classification report\n",
    "print(\"\\nClassification Report:\")\n",
    "print(classification_report(y_test, y_pred, target_names=le.classes_))\n"
   ]
  },
  {
   "cell_type": "code",
   "execution_count": 8,
   "metadata": {
    "colab": {
     "base_uri": "https://localhost:8080/",
     "height": 564
    },
    "executionInfo": {
     "elapsed": 442,
     "status": "ok",
     "timestamp": 1747113836597,
     "user": {
      "displayName": "Mohammad Soltanieh Ha",
      "userId": "12308918870841825745"
     },
     "user_tz": 240
    },
    "id": "d0gkxdW2E5MR",
    "outputId": "ad3c15b7-a9bf-46b9-9f19-0edd939be7e0"
   },
   "outputs": [
    {
     "data": {
      "image/png": "[encoded data removed]",
      "text/plain": [
       "<Figure size 800x600 with 2 Axes>"
      ]
     },
     "metadata": {},
     "output_type": "display_data"
    }
   ],
   "source": [
    "# Plot confusion matrix\n",
    "cm = confusion_matrix(y_test, y_pred)\n",
    "plt.figure(figsize=(8, 6))\n",
    "sns.heatmap(cm, annot=True, fmt='d', cmap='Blues',\n",
    "            xticklabels=le.classes_,\n",
    "            yticklabels=le.classes_)\n",
    "plt.title('Confusion Matrix')\n",
    "plt.ylabel('True Label')\n",
    "plt.xlabel('Predicted Label');\n"
   ]
  },
  {
   "cell_type": "code",
   "execution_count": 10,
   "metadata": {
    "colab": {
     "base_uri": "https://localhost:8080/"
    },
    "executionInfo": {
     "elapsed": 66,
     "status": "ok",
     "timestamp": 1747113868054,
     "user": {
      "displayName": "Mohammad Soltanieh Ha",
      "userId": "12308918870841825745"
     },
     "user_tz": 240
    },
    "id": "19GNHOQ4E5MR",
    "outputId": "b37e7f85-6d1e-43cd-e7b5-4ac19ac8ca0e"
   },
   "outputs": [
    {
     "name": "stdout",
     "output_type": "stream",
     "text": [
      "Saving model and label encoder...\n",
      "Model and encoder saved successfully!\n"
     ]
    }
   ],
   "source": [
    "# Save the model and label encoder\n",
    "print(\"Saving model and label encoder...\")\n",
    "model.save('tweet_classifier.h5')\n",
    "import joblib\n",
    "joblib.dump(le, 'label_encoder.joblib')\n",
    "print(\"Model and encoder saved successfully!\")\n"
   ]
  },
  {
   "cell_type": "code",
   "execution_count": 9,
   "metadata": {
    "colab": {
     "base_uri": "https://localhost:8080/"
    },
    "executionInfo": {
     "elapsed": 720,
     "status": "ok",
     "timestamp": 1747113875446,
     "user": {
      "displayName": "Mohammad Soltanieh Ha",
      "userId": "12308918870841825745"
     },
     "user_tz": 240
    },
    "id": "8m0o4SFIE5MR",
    "outputId": "8cae1244-2e3f-439e-8fa7-e928017e2bfc"
   },
   "outputs": [
    {
     "name": "stdout",
     "output_type": "stream",
     "text": [
      "\n",
      "Example Predictions:\n",
      "\u001b[1m1/1\u001b[0m \u001b[32m━━━━━━━━━━━━━━━━━━━━\u001b[0m\u001b[37m\u001b[0m \u001b[1m0s\u001b[0m 17ms/step\n",
      "\n",
      "Text: Let's move to the rhythm of evening with fearless energy.\n",
      "True label: literal\n",
      "Predicted label: sarcastic\n",
      "Prediction probability: 0.914\n",
      "--------------------------------------------------------------------------------\n",
      "\n",
      "Text: @Cupcake_Dollie Absolutely. I’m really happy you enjoyed spending time with me more.\n",
      "True label: literal\n",
      "Predicted label: literal\n",
      "Prediction probability: 0.888\n",
      "--------------------------------------------------------------------------------\n",
      "\n",
      "Text: @therealtoriamos When will the UK iTunes codes be sent out? This process is frustrating. Please make ticket sales more straightforward next time.\n",
      "True label: literal\n",
      "Predicted label: literal\n",
      "Prediction probability: 0.969\n",
      "--------------------------------------------------------------------------------\n",
      "\n",
      "Text: Trying to upload pictures of my friends, but it keeps failing.\n",
      "True label: literal\n",
      "Predicted label: literal\n",
      "Prediction probability: 0.992\n",
      "--------------------------------------------------------------------------------\n",
      "\n",
      "Text: Just ran 10km like a champ and rewarded myself with endless Saga buffet—because nothing says fitness like stuffing your face with office buddies.\n",
      "True label: sarcastic\n",
      "Predicted label: sarcastic\n",
      "Prediction probability: 0.969\n",
      "--------------------------------------------------------------------------------\n"
     ]
    }
   ],
   "source": [
    "# Display some example predictions\n",
    "print(\"\\nExample Predictions:\")\n",
    "test_examples = data.sample(n=5, random_state=42)\n",
    "test_embeddings = ST_model.encode(test_examples['text'].tolist())\n",
    "test_predictions_prob = model.predict(test_embeddings)\n",
    "test_predictions = np.argmax(test_predictions_prob, axis=1)\n",
    "test_predictions = le.inverse_transform(test_predictions)\n",
    "\n",
    "for text, true_label, pred_label, pred_prob in zip(\n",
    "    test_examples['text'],\n",
    "    test_examples['label'],\n",
    "    test_predictions,\n",
    "    test_predictions_prob\n",
    "):\n",
    "    print(f\"\\nText: {text}\")\n",
    "    print(f\"True label: {true_label}\")\n",
    "    print(f\"Predicted label: {pred_label}\")\n",
    "    print(f\"Prediction probability: {pred_prob[np.argmax(pred_prob)]:.3f}\")\n",
    "    print(\"-\" * 80)"
   ]
  },
  {
   "cell_type": "code",
   "execution_count": null,
   "metadata": {
    "id": "hWTN-Zj1E5MS"
   },
   "outputs": [],
   "source": []
  }
 ],
 "metadata": {
  "accelerator": "GPU",
  "colab": {
   "gpuType": "T4",
   "provenance": []
  },
  "kernelspec": {
   "display_name": "text_class",
   "language": "python",
   "name": "python3"
  },
  "language_info": {
   "codemirror_mode": {
    "name": "ipython",
    "version": 3
   },
   "file_extension": ".py",
   "mimetype": "text/x-python",
   "name": "python",
   "nbconvert_exporter": "python",
   "pygments_lexer": "ipython3",
   "version": "3.12.9"
  }
 },
 "nbformat": 4,
 "nbformat_minor": 0
}
