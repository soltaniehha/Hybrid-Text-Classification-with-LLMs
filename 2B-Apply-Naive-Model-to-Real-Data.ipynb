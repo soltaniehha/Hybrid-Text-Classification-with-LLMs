{
 "cells": [
  {
   "cell_type": "markdown",
   "metadata": {
    "id": "NB0FWy3oG2v_"
   },
   "source": [
    " # Step 2B: Apply Naive Classifier to Real Data\n",
    "\n",
    "\n",
    "\n",
    " Apply the trained classifier to real tweets to identify high-confidence examples:\n",
    "\n",
    "\n",
    "\n",
    " 1. Process: Load real tweets, generate embeddings (all-MiniLM-L6-v2), predict classes\n",
    "\n",
    " 2. Extract: Select top 5000 high-confidence examples per class\n",
    "\n",
    " 3. Save:\n",
    "\n",
    "    - High-confidence examples to 'data/high_confidence_real_examples.csv'\n",
    "\n",
    "    - All examples with embeddings to 'data/all_real_examples_with_embeddings.csv'\n",
    "\n",
    " 4. Visualize: UMAP projection of high-confidence embeddings\n",
    "\n",
    "\n",
    "\n",
    " This step helps identify reliable examples for training our final model."
   ]
  },
  {
   "cell_type": "code",
   "execution_count": null,
   "metadata": {
    "executionInfo": {
     "elapsed": 58029,
     "status": "ok",
     "timestamp": 1747114051362,
     "user": {
      "displayName": "Mohammad Soltanieh Ha",
      "userId": "12308918870841825745"
     },
     "user_tz": 240
    },
    "id": "65VzzwVLG2wC"
   },
   "outputs": [],
   "source": [
    "# Import necessary libraries\n",
    "import os\n",
    "import pandas as pd\n",
    "import numpy as np\n",
    "from keras import models\n",
    "import joblib\n",
    "from sentence_transformers import SentenceTransformer\n",
    "from tqdm import tqdm\n",
    "import umap\n",
    "import matplotlib.pyplot as plt\n"
   ]
  },
  {
   "cell_type": "code",
   "execution_count": null,
   "metadata": {
    "executionInfo": {
     "elapsed": 4983,
     "status": "ok",
     "timestamp": 1747114128140,
     "user": {
      "displayName": "Mohammad Soltanieh Ha",
      "userId": "12308918870841825745"
     },
     "user_tz": 240
    },
    "id": "cw9j2IApG2wD"
   },
   "outputs": [],
   "source": [
    "# Load real data\n",
    "real_data = pd.read_csv('processed_sentiment140.csv')\n"
   ]
  },
  {
   "cell_type": "code",
   "execution_count": null,
   "metadata": {
    "colab": {
     "base_uri": "https://localhost:8080/"
    },
    "executionInfo": {
     "elapsed": 1539,
     "status": "ok",
     "timestamp": 1747114142815,
     "user": {
      "displayName": "Mohammad Soltanieh Ha",
      "userId": "12308918870841825745"
     },
     "user_tz": 240
    },
    "id": "5xgzeuTXG2wD",
    "outputId": "91390782-933b-4aae-838c-5c68b003d34e"
   },
   "outputs": [],
   "source": [
    "# Load the trained model and label encoder\n",
    "model = models.load_model('tweet_classifier.h5')\n",
    "le = joblib.load('label_encoder.joblib')\n"
   ]
  },
  {
   "cell_type": "code",
   "execution_count": null,
   "metadata": {
    "colab": {
     "base_uri": "https://localhost:8080/",
     "height": 458,
     "referenced_widgets": [
      "7fb3bd8819174461ac3e20ec1a61dba9",
      "9c0fb8c135b94e7287f5b473b735fd66",
      "4eb6200aa43d4c9db4084077186c0059",
      "c240489c726b4466ae4faad914553004",
      "d6461d6c93af41aa97e8e17e45493beb",
      "813e119e00d24fd7b20cf4e766062387",
      "fc887b0d5edb44cb8bf122e1e7941767",
      "6b47efc5d6704180965c04d2d3b2345d",
      "02d06535fc01462e85008a7d0d5897b5",
      "0696d7ab3d5548909d05359c18b817c0",
      "72d87a36d1b04586a81e281eaa2a482d",
      "bbb9f2dd3e1b4373a2990e29fc491113",
      "25a70d8001844ed5a342e93a9101954f",
      "e1c1473d3be34996a05ec79c3fd9254a",
      "adca230cc5234a15afa8a678e37bf2d2",
      "9feb7ea02ad246499a0d0058350ead4a",
      "b695c2a4edbf4007a3c0fb418425c357",
      "d284f96b32374f15a309588aa86657cc",
      "c36a83a7320e491ba5de976b3374114b",
      "17ca8ca3a6fc4b96b8a37dc0d07eb66f",
      "e83fea8a30b74920be5dd82d33dbc89d",
      "19e834db620f43a2a38abdddde2054e6",
      "f23fb56f885149a2bfd075e4c3be3e4a",
      "6f9727b309d347aabe0b9531552ef086",
      "e0df03d1670f40ec9dbfb903657a7496",
      "376d2b208e0c4f338887a6e19c4e4708",
      "d9d367513e1541b2b7fb146334aa173d",
      "d47eee8d15994ae4a1229c0b95a4a0da",
      "1b8b0d2b46124f0b89b0809355ea915e",
      "2b569197c7434975bd4bff19625a3949",
      "938de50ef29d41a08ec276c2f70b25cd",
      "5297d7a047134074a6785009bb4dfc27",
      "d794a90942da4908a2a465173abb9527",
      "1e9fb921462d43c8b3d08fbfbe599ad9",
      "5e8882afff5c462da12745a9d48b8ec5",
      "e7f54ee7796e4430a12524cec6c14fc3",
      "0cd93caffeee4a53ab3ec63a5615771e",
      "7cdd215e51a541dabbd056cd82a41ff7",
      "84fa0350eefd40728842591eb18a5cb3",
      "b03e68387f3f4be58029370823b35dab",
      "ca731117cc264322975222117e46a0ef",
      "7adbb74f364d490ea397cc4dbfa89011",
      "6dadcdf6c06147a5aeab8b75999a0f06",
      "636e069db5024aa1b16aac8454231e00",
      "829fbe50093a468cae9dec2c9020fa51",
      "5f5ef5f9b44b45adb8279e02aad800ac",
      "8cd8bdee378642d9a4695c0725b2457f",
      "a51ce6eaa0d04c428f06d4c60e2bfe71",
      "8c58ab238c6e4e2c93c9e2467208a94b",
      "8b46cb915e1a49b6ba94618a8956cd31",
      "91fd253269754eef824aef8c28e49f34",
      "34e55b5e771945d9807062a6d49d6eff",
      "d14879e83d8f48aa89193e217a41b982",
      "263e1f5a397843ea95683b680a3883d1",
      "4bb6ec528fc84b53bc7d12a48d8f3c88",
      "2dc600f66f3a46c2b0b204323701ee92",
      "d90c22d35df24ee6887732586c91ea0e",
      "91620538ffac46e5a93e212e81323830",
      "4554909f66d3481286280d8a7c0468d5",
      "456eb0d80fea42859fbfb11fded18b8b",
      "a575d7b8c8834365b873808fd31c094d",
      "7f37166e64c640358a7089210530dc05",
      "59d8bbf4955d4378a18f4f9bfc33093f",
      "60ee7c6391b84fd19b259b6ab7768e51",
      "1651ebfd29e54183b0533fdc88da4251",
      "d79338469c6c4870a66e3f2cd65adb25",
      "21ed0ebf425441aa920809a54dce8cba",
      "675aff38eb5e4f39bc776705f62ebc06",
      "5f920194d72d48ea91d81f39d6110403",
      "d54a0e5a78a0461d9050fa60449d0dc5",
      "71e7cd97b7d44ba2855136084f3d42f3",
      "2bedd379646844b291556f15bf629ede",
      "239ce8f51f2e4615a9b93cc243e3dd75",
      "0f09552d6c7742388e85f3ee45331f2a",
      "206b952a5c5e4995872e590a3186019b",
      "1c2ed2a2f6504d19947412e7d1347833",
      "6119aee8585c41199c067b9016951bdb",
      "de03723d8cf04a59b0c0faf902f7aa0c",
      "34dedb4621b04b30a811e39ffb29bd5c",
      "1840ee1417bb439f95e576277837a26f",
      "93991eb1a8124f04b31c6cbbe9801aec",
      "313e5076bbff4b8e9a401cdfdd739482",
      "87f190d25ea9447bb49db1f12eff5588",
      "3f9543b7f54d439bb8623c118179d5e4",
      "0dd6994094d4428d9f843db78aab0e3c",
      "6cbc439f8cbc404db30b94318c606b9d",
      "916a07db4196416ca78bbd5927c89add",
      "f09df0c426214374bc8dd2af03b10d72",
      "c6b0919d88f94364822ddf87f6c22a86",
      "56a296264de549e698de38a533e7ad48",
      "12d08b035c9d451f847cf67e54b41b33",
      "597d84177dd04b9cbc26877df2cfd518",
      "18ba695d1dd74e7aab41f239108f160f",
      "1977efddb7e04884a057bcff52bafc69",
      "b60beeb374be411dbf3de4081730c55b",
      "0838e07b454449e7b50a6380cae2c267",
      "95af718dae3e451da58dd717a8ca3758",
      "3d6dfa8937994a8e90326ee00464e36e",
      "36e1881a88d3488cb69baaa140c6c84b",
      "07590fded62549dd9a0657dfc8dbfa61",
      "a872820125ec420db9abac9854b6f3f4",
      "c59c584c705742c69e905f5a615355a1",
      "2d23f3a628c9481aa3d13425dd38e1fe",
      "bff297f89a6f4aa0abe55adbbecfdd57",
      "8aa102ba4eaa4e6bb7593540f4f67274",
      "42458af27a4b4bdeb0c88897e0df7332",
      "6b6dcb2b648a471d8db97315e380c013",
      "bfaf704d63af4c73a574a24a0ac2a571",
      "232e31c5f7724029b012ff83cd26b935",
      "31fd1f5e55f84bc8a6f7fe499de39e43",
      "2eb82d959e5d4315aea305eb4562f298",
      "4bbd0b38581949009e88e7195d0f2496",
      "ef69bac38e8f45f1a2ab910e964d9540",
      "bd063c5cef3e4eda8c2bbefc4afb8af4",
      "c6a271c8c58f4111aaec376804647137",
      "868515f8144b48c0999422dbd739f50d",
      "3a86702493f94602b3a89f5e34092676",
      "6d87258dfa4e45fdbecd89546128a72b",
      "d7304fab8be74a86adbb3eab66eaab13",
      "3b1551d9829b437a9e30d3c76e921934",
      "48de210a66484407bc5128aef7a737b9"
     ]
    },
    "executionInfo": {
     "elapsed": 10348,
     "status": "ok",
     "timestamp": 1747114154194,
     "user": {
      "displayName": "Mohammad Soltanieh Ha",
      "userId": "12308918870841825745"
     },
     "user_tz": 240
    },
    "id": "lXYKiaLXG2wD",
    "outputId": "4f9de194-7140-4193-bd68-51c12348a965"
   },
   "outputs": [],
   "source": [
    "# Load the sentence transformer model\n",
    "ST_model = SentenceTransformer('all-MiniLM-L6-v2')\n"
   ]
  },
  {
   "cell_type": "code",
   "execution_count": null,
   "metadata": {
    "colab": {
     "base_uri": "https://localhost:8080/"
    },
    "executionInfo": {
     "elapsed": 436286,
     "status": "ok",
     "timestamp": 1747114600067,
     "user": {
      "displayName": "Mohammad Soltanieh Ha",
      "userId": "12308918870841825745"
     },
     "user_tz": 240
    },
    "id": "yeoK7UQ6G2wE",
    "outputId": "a30513d8-080f-4574-e311-2d05377b8e63"
   },
   "outputs": [],
   "source": [
    "# Generate embeddings for the processed text\n",
    "print('Generating embeddings for real data...')\n",
    "batch_size = 32\n",
    "embeddings = []\n",
    "for i in tqdm(range(0, len(real_data), batch_size)):\n",
    "    batch = real_data['cleaned_text'].iloc[i:i+batch_size].tolist()\n",
    "    batch_embed = ST_model.encode(batch)\n",
    "    embeddings.extend(batch_embed)\n",
    "embeddings = np.array(embeddings)\n"
   ]
  },
  {
   "cell_type": "code",
   "execution_count": null,
   "metadata": {
    "colab": {
     "base_uri": "https://localhost:8080/"
    },
    "executionInfo": {
     "elapsed": 68560,
     "status": "ok",
     "timestamp": 1747114668629,
     "user": {
      "displayName": "Mohammad Soltanieh Ha",
      "userId": "12308918870841825745"
     },
     "user_tz": 240
    },
    "id": "os4jNGqrG2wE",
    "outputId": "cd523a8e-199c-4621-d3f7-464808886eeb"
   },
   "outputs": [],
   "source": [
    "# Predict probabilities for each class\n",
    "print('Predicting class probabilities...')\n",
    "preds_prob = model.predict(embeddings)\n",
    "preds = np.argmax(preds_prob, axis=1)\n",
    "pred_labels = le.inverse_transform(preds)\n"
   ]
  },
  {
   "cell_type": "code",
   "execution_count": null,
   "metadata": {
    "executionInfo": {
     "elapsed": 2,
     "status": "ok",
     "timestamp": 1747114668633,
     "user": {
      "displayName": "Mohammad Soltanieh Ha",
      "userId": "12308918870841825745"
     },
     "user_tz": 240
    },
    "id": "aozhJZvSG2wE"
   },
   "outputs": [],
   "source": [
    "# Add predictions and probabilities to DataFrame\n",
    "real_data['pred_label'] = pred_labels\n",
    "real_data['prob_0'] = preds_prob[:, 0]\n",
    "real_data['prob_1'] = preds_prob[:, 1]\n"
   ]
  },
  {
   "cell_type": "code",
   "execution_count": null,
   "metadata": {
    "executionInfo": {
     "elapsed": 240,
     "status": "ok",
     "timestamp": 1747114668872,
     "user": {
      "displayName": "Mohammad Soltanieh Ha",
      "userId": "12308918870841825745"
     },
     "user_tz": 240
    },
    "id": "vRJ822i5G2wF"
   },
   "outputs": [],
   "source": [
    "# Add embeddings as a column (as list)\n",
    "real_data['embedding'] = list(embeddings)\n"
   ]
  },
  {
   "cell_type": "code",
   "execution_count": null,
   "metadata": {
    "executionInfo": {
     "elapsed": 851,
     "status": "ok",
     "timestamp": 1747114669722,
     "user": {
      "displayName": "Mohammad Soltanieh Ha",
      "userId": "12308918870841825745"
     },
     "user_tz": 240
    },
    "id": "yGKxcMUOG2wF"
   },
   "outputs": [],
   "source": [
    "# Select top 5000 for each class by probability\n",
    "literal_top = real_data[real_data['pred_label'] == le.classes_[0]].nlargest(5000, 'prob_0')\n",
    "sarcastic_top = real_data[real_data['pred_label'] == le.classes_[1]].nlargest(5000, 'prob_1')\n",
    "high_conf_examples = pd.concat([literal_top, sarcastic_top], ignore_index=True)\n",
    "high_conf_examples['high_conf_class'] = high_conf_examples['pred_label']\n"
   ]
  },
  {
   "cell_type": "code",
   "execution_count": null,
   "metadata": {
    "colab": {
     "base_uri": "https://localhost:8080/"
    },
    "executionInfo": {
     "elapsed": 23227,
     "status": "ok",
     "timestamp": 1747114692953,
     "user": {
      "displayName": "Mohammad Soltanieh Ha",
      "userId": "12308918870841825745"
     },
     "user_tz": 240
    },
    "id": "obhX_81iG2wF",
    "outputId": "64f1dfd0-3666-489f-cd86-14067bbbae24"
   },
   "outputs": [],
   "source": [
    "# Save high confidence examples\n",
    "output_high_conf = 'high_confidence_real_examples.csv'\n",
    "high_conf_examples[['text', 'cleaned_text', 'pred_label', 'prob_0', 'prob_1', 'high_conf_class', 'embedding']].to_csv(output_high_conf, index=False)\n",
    "print(f'High-confidence examples saved to {output_high_conf}')\n"
   ]
  },
  {
   "cell_type": "code",
   "execution_count": null,
   "metadata": {
    "colab": {
     "base_uri": "https://localhost:8080/",
     "height": 796
    },
    "executionInfo": {
     "elapsed": 51226,
     "status": "ok",
     "timestamp": 1747114744171,
     "user": {
      "displayName": "Mohammad Soltanieh Ha",
      "userId": "12308918870841825745"
     },
     "user_tz": 240
    },
    "id": "q-g38dDSG2wF",
    "outputId": "a258ad4b-50da-4b16-8615-5f35f0bdfa01"
   },
   "outputs": [],
   "source": [
    "# UMAP visualization of high-confidence embeddings\n",
    "\n",
    "print(\"Reducing high-confidence embeddings to 2D with UMAP...\")\n",
    "umap_model = umap.UMAP(n_components=2, random_state=42)\n",
    "embeddings_2d = umap_model.fit_transform(np.vstack(high_conf_examples['embedding'].values))\n",
    "\n",
    "# Add 2D coordinates to DataFrame\n",
    "high_conf_examples['umap_x'] = embeddings_2d[:, 0]\n",
    "high_conf_examples['umap_y'] = embeddings_2d[:, 1]\n",
    "\n",
    "# Plot\n",
    "plt.figure(figsize=(10, 7))\n",
    "for label in high_conf_examples['high_conf_class'].unique():\n",
    "    subset = high_conf_examples[high_conf_examples['high_conf_class'] == label]\n",
    "    plt.scatter(subset['umap_x'], subset['umap_y'], label=label, alpha=0.5, s=10)\n",
    "plt.legend()\n",
    "plt.title('UMAP projection of high-confidence all-MiniLM-L6-v2 embeddings')\n",
    "plt.xlabel('UMAP-1')\n",
    "plt.ylabel('UMAP-2')\n",
    "plt.tight_layout()\n",
    "plt.show()\n"
   ]
  }
 ],
 "metadata": {
  "accelerator": "GPU",
  "colab": {
   "gpuType": "T4",
   "provenance": []
  },
  "kernelspec": {
   "display_name": "Python 3",
   "name": "python3"
  },
  "language_info": {
   "name": "python"
  }
 },
 "nbformat": 4,
 "nbformat_minor": 0
}
