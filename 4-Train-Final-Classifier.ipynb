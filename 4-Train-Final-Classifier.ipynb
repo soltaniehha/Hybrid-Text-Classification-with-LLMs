{
 "cells": [
  {
   "cell_type": "markdown",
   "metadata": {
    "id": "1OrvQBwlJs-O"
   },
   "source": [
    " # Step 4: Train Final Classifier\n",
    "\n",
    "\n",
    "\n",
    " Train a binary classifier on the balanced dataset:\n",
    "\n",
    "\n",
    "\n",
    " 1. Data: Split 80/20 (stratified), encode with all-mpnet-base-v2\n",
    "\n",
    " 2. Model: Dense(32) → Dropout(0.5) → Dense(8) → Dropout(0.5) → Dense(1)\n",
    "\n",
    " 3. Training: Two-phase approach\n",
    "\n",
    "    - Phase 1: Find best epochs with early stopping\n",
    "\n",
    "    - Phase 2: Retrain on full training set\n",
    "\n",
    " 4. Evaluation: Test accuracy, misclassification analysis by source\n",
    "\n",
    "\n",
    "\n",
    " The final model is saved to './models/final_classifier.h5'."
   ]
  },
  {
   "cell_type": "code",
   "execution_count": 1,
   "metadata": {
    "executionInfo": {
     "elapsed": 34655,
     "status": "ok",
     "timestamp": 1747114805245,
     "user": {
      "displayName": "Mohammad Soltanieh Ha",
      "userId": "12308918870841825745"
     },
     "user_tz": 240
    },
    "id": "IUYkpAvcJs-Q"
   },
   "outputs": [
    {
     "name": "stderr",
     "output_type": "stream",
     "text": [
      "/opt/anaconda3/envs/text_class/lib/python3.12/site-packages/tqdm/auto.py:21: TqdmWarning: IProgress not found. Please update jupyter and ipywidgets. See https://ipywidgets.readthedocs.io/en/stable/user_install.html\n",
      "  from .autonotebook import tqdm as notebook_tqdm\n"
     ]
    }
   ],
   "source": [
    "# Import necessary libraries\n",
    "import pandas as pd\n",
    "import numpy as np\n",
    "from tqdm import tqdm\n",
    "from sentence_transformers import SentenceTransformer\n",
    "import keras\n",
    "from keras import layers, models, optimizers, callbacks\n",
    "from sklearn.model_selection import train_test_split\n",
    "import matplotlib.pyplot as plt\n"
   ]
  },
  {
   "cell_type": "code",
   "execution_count": 2,
   "metadata": {
    "executionInfo": {
     "elapsed": 27,
     "status": "ok",
     "timestamp": 1747114805271,
     "user": {
      "displayName": "Mohammad Soltanieh Ha",
      "userId": "12308918870841825745"
     },
     "user_tz": 240
    },
    "id": "CgzwwegwJs-R"
   },
   "outputs": [],
   "source": [
    "# Load the balanced training dataset\n",
    "train_df = pd.read_csv('balanced_training_dataset.csv')\n"
   ]
  },
  {
   "cell_type": "code",
   "execution_count": 3,
   "metadata": {
    "executionInfo": {
     "elapsed": 25,
     "status": "ok",
     "timestamp": 1747114805302,
     "user": {
      "displayName": "Mohammad Soltanieh Ha",
      "userId": "12308918870841825745"
     },
     "user_tz": 240
    },
    "id": "Rv5N1Qq4Js-R"
   },
   "outputs": [],
   "source": [
    "# Split into train and test sets (80/20)\n",
    "train_df, test_df = train_test_split(train_df, test_size=0.2, random_state=42, stratify=train_df['label'])\n"
   ]
  },
  {
   "cell_type": "code",
   "execution_count": 4,
   "metadata": {
    "colab": {
     "base_uri": "https://localhost:8080/",
     "height": 458,
     "referenced_widgets": [
      "35fd0bb40bba45039765c75bea5f6894",
      "0b335670b63a4cd8a7e68852bdcade30",
      "963533e2b09b4c3ead4a6eaf41a1203e",
      "d62c0999eba54fd99ae4c9033e29f0f9",
      "821b46f1e1b74f9d9dccae6e49217e82",
      "c86f82cf8f69495d908d9941f1f4002d",
      "dfc411603af9484498c55caf08b66ca3",
      "e304c9e3a60f4c22b1e009cc2ab617af",
      "5c71520ba5594d89a5a12051dcf7e421",
      "6cd2fb88ed594dccb895fd63a57f57a8",
      "2e1bc6b3d1554252a1fb9d668e6cb15e",
      "1e3b2f19f34849949f3a99644496aaca",
      "46e98f3474eb4bc0affdd8955ce3bbe2",
      "440402c6d8ca49bc82b2b8f8ed239f5e",
      "1eb87eb1cc6545beb3c37e1e61eb8010",
      "43ac93060a1c4847998eb2b251b3970f",
      "093baa0156f349989bc406a30ad57838",
      "0998305c9d494dde9ae4d9b2cc6da165",
      "e4bc60638f0c4da387b7fb2e21bd8e88",
      "cc6f281c707849d68703beea234b0815",
      "a1a40cfc88494121afde01c2d0d69489",
      "ecf139898199453c861e8d1ce60ae9dd",
      "f32fea77a82f4b0d9d9fe70d93852a9b",
      "01bb6121df9e49a4936b424d729f6bc3",
      "70ae4a1614534068bfdc686fb1ddbb09",
      "3c4ed249d86c429fa40e28516b1b3d63",
      "c82bbf4f15fc49a39f76a60a9bf0b17e",
      "9c1e7f68f8014079974b67fd4e9219d1",
      "15ae1309dcc74622a517463bc2055ef9",
      "72d41d93128c481696a87d6cc1e98d52",
      "bb642a78f7884bc895c1e7d3d0b82ec1",
      "622aeb835ea4449bbe6a40164d7bd819",
      "601df54f8d81400f82c7a339afba265b",
      "7fdfb486c6a74a0aacaffc807a7c70e5",
      "3b13aa4566a74de187016035e4e37d11",
      "4f38020acaa842dfa2cf931806d1b7ef",
      "951bc16697974f44b856318e47fa9790",
      "881408652c08433bae488ac6a9cc6849",
      "38392eff4c4146e8a328cb83f649daa7",
      "e8dbad67d4af49d18e0d939b6e67e423",
      "8a2416b0aa43419fbeb6c075c5a820bb",
      "a03d0ff3c3dc4d58a00ebcd9fbffb5a1",
      "e7c3786ebea2460b8b1fe875eb7d58d3",
      "ff60f9fee05543c884e1f6a39ed9fce3",
      "7a3ce291aef644f381081ff6a81eb8e4",
      "49489124616844b2b8e20535730e6484",
      "adad0b1bc8ee4d48bb7a6ba7574608b2",
      "bdf6f8fb1aaf435f8e8f9d365285ba2a",
      "ce61b6672649450aa1a77327d93dd75c",
      "379917d77b3747d7baca4405da56e086",
      "7130f14e097f417a992586e0c8e1be72",
      "8ea151a7475345d590ed5862d465f1fe",
      "d1918a8f627c4a5fa2e0794975b8a7c1",
      "a6e634e6678c43259bd73fa6a8e4dfbf",
      "04229842bfc0457a80be3b191349768f",
      "7729ab86b56f42cda46f625bf4d24ae9",
      "a04347256c1e43b5860303e4dd359df0",
      "432c8c2e00344b878b1b2a30cabb478b",
      "39bb7d40c2fe4d63b5bf3940702fce51",
      "aef8c00f09604e948bfd18331d31209e",
      "d26d0e58fbec4a278d2feb2ae4ba410a",
      "917f2579c6f94482a0fd67753e6a3f79",
      "21edff9b62764885bb1da64ef3b7d7e6",
      "7090dbffb162496e8c225b97bf9b76ff",
      "c346f20fb407415e93ec8e7ab4167666",
      "718bc3af9b094f58934de16d8d458570",
      "ed33a09654294e958a3579b4ad626020",
      "cc3e48c64b054d39a3bdaa875451b75b",
      "49015490f4734a6cbf0e4ddb4bc5c0fc",
      "51fe75b5be8c4cd582c799f580d7dc66",
      "26e5bf90c5a14769b7b12e9af5725346",
      "5b4e08bc5be84bd0be7992366d312d86",
      "a5eea07ad0d746e584bb554ce72ebbb2",
      "cf036677a6184c41baac693d477065bf",
      "750e0bc62315441bac271a7f86d845e8",
      "36d1a68f7252438b804bd1a02b506d97",
      "c2ba457b32394fe59c100b89880121db",
      "8ef16df611964c5a9ac8c77d13022042",
      "8805e4617ebb41f0b6df925332f6b340",
      "4b9fbbe49c8040b29386e20eb4fcb15c",
      "029afedc91b64e8082133ca7e710dd35",
      "112a35fed8684b3ca560aaec7b40f087",
      "77c49850819944e9931c460f8fc52c93",
      "465551e2b8ae44dc834190e04f35a4ea",
      "a0777f05e86a4335bea0dc64e39cb453",
      "245e5f7d800545ceacb222a6fafcfe11",
      "81502f0608fe4f4dbd29859c9967221c",
      "cc958e3f8a094b36a6751f830b94d2dd",
      "7a0bbb9122814bb88240acfd70d61f8f",
      "850db268e2d24d049afa4665b744f879",
      "e394acdeae5d4e38b0752e35009c3450",
      "d20fcc750b5c4f7aabded4b4842dbe64",
      "357a78f703954a37806fb90732a3ac93",
      "22ac4a24d70a4de89632f3810fb73ddb",
      "2224f36e74754fd79ef7a4cf5d8fbc94",
      "65f57aa06fe2489b95349ef8a9851f7f",
      "2cd67cdcf39c4016895f3b50bdff73ae",
      "27827878cec34da58bea0ee2746e4e9c",
      "af781ccf7bbd46baa76e08d516db7566",
      "fb409c04d0e240c2bf8c66b936d49d4e",
      "8bb70293edcb472fa95df40b96d66962",
      "1a2f6981e2e748b8b2ab2ddce9bbdb58",
      "c20f08e39c3f4628a004b70468cc0d48",
      "5ac8332c2c474ab7a58b4c8a319e97b4",
      "a1a40f281e91444a88ef75fc2b633ce4",
      "3c9a4fa4485d4613962e2590062f7397",
      "ed5e4e663f79472889a6fa5f40b1156d",
      "443abb5aa3e04ac6840b0c2616628958",
      "e1f276f90e42499e86e095c5bcb3e224",
      "3464454a45834cb287d8f42d1e5fd532",
      "7fd9ad1ddb7146fd81693ec583d3ca02",
      "c7c1768ddfb34e75af41c5ed3af0043c",
      "7c7a8c13b91748099e123535358f634c",
      "43ad3a887c3d468cb9063c92f471a631",
      "caa62a502a72497691d086379862bd25",
      "357cf98ba1f74a5cb2b7fdfbf8696241",
      "c52ab62f2b014d1289ce1c68e424d43f",
      "1eaa746d2c5041efad074d9c96d2a0cc",
      "18bcba7fe6174921965e06627d37f532",
      "64d1d568f22d4c20ad9b4bea891f8178",
      "0cb3093cd307452096ee63621b72c42b"
     ]
    },
    "executionInfo": {
     "elapsed": 24386,
     "status": "ok",
     "timestamp": 1747114829694,
     "user": {
      "displayName": "Mohammad Soltanieh Ha",
      "userId": "12308918870841825745"
     },
     "user_tz": 240
    },
    "id": "nrMdbv0jJs-R",
    "outputId": "c9304f00-96f1-4d2f-e28d-5d7e76fd730a"
   },
   "outputs": [],
   "source": [
    "# Load the sentence transformer model\n",
    "ST_model = SentenceTransformer('all-mpnet-base-v2')  # all-MiniLM-L6-v2 (for faster training)\n"
   ]
  },
  {
   "cell_type": "code",
   "execution_count": 5,
   "metadata": {
    "colab": {
     "base_uri": "https://localhost:8080/"
    },
    "executionInfo": {
     "elapsed": 30556,
     "status": "ok",
     "timestamp": 1747114860253,
     "user": {
      "displayName": "Mohammad Soltanieh Ha",
      "userId": "12308918870841825745"
     },
     "user_tz": 240
    },
    "id": "SvO0NHGWJs-R",
    "outputId": "5e9d819c-72b9-4b66-e0aa-df68303c3adb"
   },
   "outputs": [
    {
     "name": "stdout",
     "output_type": "stream",
     "text": [
      "Generating embeddings for training data...\n"
     ]
    },
    {
     "name": "stderr",
     "output_type": "stream",
     "text": [
      "100%|██████████| 376/376 [00:26<00:00, 14.13it/s]\n"
     ]
    },
    {
     "name": "stdout",
     "output_type": "stream",
     "text": [
      "Generating embeddings for test data...\n"
     ]
    },
    {
     "name": "stderr",
     "output_type": "stream",
     "text": [
      "100%|██████████| 94/94 [00:05<00:00, 17.30it/s]\n"
     ]
    }
   ],
   "source": [
    "# Generate embeddings for the cleaned_text\n",
    "print('Generating embeddings for training data...')\n",
    "batch_size = 32\n",
    "train_embeddings = []\n",
    "for i in tqdm(range(0, len(train_df), batch_size)):\n",
    "    batch = train_df['cleaned_text'].iloc[i:i+batch_size].tolist()\n",
    "    batch_embed = ST_model.encode(batch)\n",
    "    train_embeddings.extend(batch_embed)\n",
    "train_embeddings = np.array(train_embeddings)\n",
    "\n",
    "print('Generating embeddings for test data...')\n",
    "test_embeddings = []\n",
    "for i in tqdm(range(0, len(test_df), batch_size)):\n",
    "    batch = test_df['cleaned_text'].iloc[i:i+batch_size].tolist()\n",
    "    batch_embed = ST_model.encode(batch)\n",
    "    test_embeddings.extend(batch_embed)\n",
    "test_embeddings = np.array(test_embeddings)\n"
   ]
  },
  {
   "cell_type": "code",
   "execution_count": 6,
   "metadata": {
    "executionInfo": {
     "elapsed": 4,
     "status": "ok",
     "timestamp": 1747114860254,
     "user": {
      "displayName": "Mohammad Soltanieh Ha",
      "userId": "12308918870841825745"
     },
     "user_tz": 240
    },
    "id": "5DXQqNx4Js-R"
   },
   "outputs": [],
   "source": [
    "# Prepare labels (binary: sarcastic=1, literal=0)\n",
    "train_labels = (train_df['label'] == 'sarcastic').astype(int).values\n",
    "test_labels = (test_df['label'] == 'sarcastic').astype(int).values\n"
   ]
  },
  {
   "cell_type": "code",
   "execution_count": 7,
   "metadata": {
    "colab": {
     "base_uri": "https://localhost:8080/",
     "height": 389
    },
    "executionInfo": {
     "elapsed": 2011,
     "status": "ok",
     "timestamp": 1747114862275,
     "user": {
      "displayName": "Mohammad Soltanieh Ha",
      "userId": "12308918870841825745"
     },
     "user_tz": 240
    },
    "id": "rBx8TfSiJs-S",
    "outputId": "a1d53785-e409-47eb-cfa7-5614e7044399"
   },
   "outputs": [
    {
     "name": "stdout",
     "output_type": "stream",
     "text": [
      "\n",
      "Model summary (number of parameters per layer):\n"
     ]
    },
    {
     "data": {
      "text/html": [
       "<pre style=\"white-space:pre;overflow-x:auto;line-height:normal;font-family:Menlo,'DejaVu Sans Mono',consolas,'Courier New',monospace\"><span style=\"font-weight: bold\">Model: \"sequential\"</span>\n",
       "</pre>\n"
      ],
      "text/plain": [
       "\u001b[1mModel: \"sequential\"\u001b[0m\n"
      ]
     },
     "metadata": {},
     "output_type": "display_data"
    },
    {
     "data": {
      "text/html": [
       "<pre style=\"white-space:pre;overflow-x:auto;line-height:normal;font-family:Menlo,'DejaVu Sans Mono',consolas,'Courier New',monospace\">┏━━━━━━━━━━━━━━━━━━━━━━━━━━━━━━━━━┳━━━━━━━━━━━━━━━━━━━━━━━━┳━━━━━━━━━━━━━━━┓\n",
       "┃<span style=\"font-weight: bold\"> Layer (type)                    </span>┃<span style=\"font-weight: bold\"> Output Shape           </span>┃<span style=\"font-weight: bold\">       Param # </span>┃\n",
       "┡━━━━━━━━━━━━━━━━━━━━━━━━━━━━━━━━━╇━━━━━━━━━━━━━━━━━━━━━━━━╇━━━━━━━━━━━━━━━┩\n",
       "│ dense (<span style=\"color: #0087ff; text-decoration-color: #0087ff\">Dense</span>)                   │ (<span style=\"color: #00d7ff; text-decoration-color: #00d7ff\">None</span>, <span style=\"color: #00af00; text-decoration-color: #00af00\">32</span>)             │        <span style=\"color: #00af00; text-decoration-color: #00af00\">24,608</span> │\n",
       "├─────────────────────────────────┼────────────────────────┼───────────────┤\n",
       "│ dropout (<span style=\"color: #0087ff; text-decoration-color: #0087ff\">Dropout</span>)               │ (<span style=\"color: #00d7ff; text-decoration-color: #00d7ff\">None</span>, <span style=\"color: #00af00; text-decoration-color: #00af00\">32</span>)             │             <span style=\"color: #00af00; text-decoration-color: #00af00\">0</span> │\n",
       "├─────────────────────────────────┼────────────────────────┼───────────────┤\n",
       "│ dense_1 (<span style=\"color: #0087ff; text-decoration-color: #0087ff\">Dense</span>)                 │ (<span style=\"color: #00d7ff; text-decoration-color: #00d7ff\">None</span>, <span style=\"color: #00af00; text-decoration-color: #00af00\">8</span>)              │           <span style=\"color: #00af00; text-decoration-color: #00af00\">264</span> │\n",
       "├─────────────────────────────────┼────────────────────────┼───────────────┤\n",
       "│ dropout_1 (<span style=\"color: #0087ff; text-decoration-color: #0087ff\">Dropout</span>)             │ (<span style=\"color: #00d7ff; text-decoration-color: #00d7ff\">None</span>, <span style=\"color: #00af00; text-decoration-color: #00af00\">8</span>)              │             <span style=\"color: #00af00; text-decoration-color: #00af00\">0</span> │\n",
       "├─────────────────────────────────┼────────────────────────┼───────────────┤\n",
       "│ dense_2 (<span style=\"color: #0087ff; text-decoration-color: #0087ff\">Dense</span>)                 │ (<span style=\"color: #00d7ff; text-decoration-color: #00d7ff\">None</span>, <span style=\"color: #00af00; text-decoration-color: #00af00\">1</span>)              │             <span style=\"color: #00af00; text-decoration-color: #00af00\">9</span> │\n",
       "└─────────────────────────────────┴────────────────────────┴───────────────┘\n",
       "</pre>\n"
      ],
      "text/plain": [
       "┏━━━━━━━━━━━━━━━━━━━━━━━━━━━━━━━━━┳━━━━━━━━━━━━━━━━━━━━━━━━┳━━━━━━━━━━━━━━━┓\n",
       "┃\u001b[1m \u001b[0m\u001b[1mLayer (type)                   \u001b[0m\u001b[1m \u001b[0m┃\u001b[1m \u001b[0m\u001b[1mOutput Shape          \u001b[0m\u001b[1m \u001b[0m┃\u001b[1m \u001b[0m\u001b[1m      Param #\u001b[0m\u001b[1m \u001b[0m┃\n",
       "┡━━━━━━━━━━━━━━━━━━━━━━━━━━━━━━━━━╇━━━━━━━━━━━━━━━━━━━━━━━━╇━━━━━━━━━━━━━━━┩\n",
       "│ dense (\u001b[38;5;33mDense\u001b[0m)                   │ (\u001b[38;5;45mNone\u001b[0m, \u001b[38;5;34m32\u001b[0m)             │        \u001b[38;5;34m24,608\u001b[0m │\n",
       "├─────────────────────────────────┼────────────────────────┼───────────────┤\n",
       "│ dropout (\u001b[38;5;33mDropout\u001b[0m)               │ (\u001b[38;5;45mNone\u001b[0m, \u001b[38;5;34m32\u001b[0m)             │             \u001b[38;5;34m0\u001b[0m │\n",
       "├─────────────────────────────────┼────────────────────────┼───────────────┤\n",
       "│ dense_1 (\u001b[38;5;33mDense\u001b[0m)                 │ (\u001b[38;5;45mNone\u001b[0m, \u001b[38;5;34m8\u001b[0m)              │           \u001b[38;5;34m264\u001b[0m │\n",
       "├─────────────────────────────────┼────────────────────────┼───────────────┤\n",
       "│ dropout_1 (\u001b[38;5;33mDropout\u001b[0m)             │ (\u001b[38;5;45mNone\u001b[0m, \u001b[38;5;34m8\u001b[0m)              │             \u001b[38;5;34m0\u001b[0m │\n",
       "├─────────────────────────────────┼────────────────────────┼───────────────┤\n",
       "│ dense_2 (\u001b[38;5;33mDense\u001b[0m)                 │ (\u001b[38;5;45mNone\u001b[0m, \u001b[38;5;34m1\u001b[0m)              │             \u001b[38;5;34m9\u001b[0m │\n",
       "└─────────────────────────────────┴────────────────────────┴───────────────┘\n"
      ]
     },
     "metadata": {},
     "output_type": "display_data"
    },
    {
     "data": {
      "text/html": [
       "<pre style=\"white-space:pre;overflow-x:auto;line-height:normal;font-family:Menlo,'DejaVu Sans Mono',consolas,'Courier New',monospace\"><span style=\"font-weight: bold\"> Total params: </span><span style=\"color: #00af00; text-decoration-color: #00af00\">24,881</span> (97.19 KB)\n",
       "</pre>\n"
      ],
      "text/plain": [
       "\u001b[1m Total params: \u001b[0m\u001b[38;5;34m24,881\u001b[0m (97.19 KB)\n"
      ]
     },
     "metadata": {},
     "output_type": "display_data"
    },
    {
     "data": {
      "text/html": [
       "<pre style=\"white-space:pre;overflow-x:auto;line-height:normal;font-family:Menlo,'DejaVu Sans Mono',consolas,'Courier New',monospace\"><span style=\"font-weight: bold\"> Trainable params: </span><span style=\"color: #00af00; text-decoration-color: #00af00\">24,881</span> (97.19 KB)\n",
       "</pre>\n"
      ],
      "text/plain": [
       "\u001b[1m Trainable params: \u001b[0m\u001b[38;5;34m24,881\u001b[0m (97.19 KB)\n"
      ]
     },
     "metadata": {},
     "output_type": "display_data"
    },
    {
     "data": {
      "text/html": [
       "<pre style=\"white-space:pre;overflow-x:auto;line-height:normal;font-family:Menlo,'DejaVu Sans Mono',consolas,'Courier New',monospace\"><span style=\"font-weight: bold\"> Non-trainable params: </span><span style=\"color: #00af00; text-decoration-color: #00af00\">0</span> (0.00 B)\n",
       "</pre>\n"
      ],
      "text/plain": [
       "\u001b[1m Non-trainable params: \u001b[0m\u001b[38;5;34m0\u001b[0m (0.00 B)\n"
      ]
     },
     "metadata": {},
     "output_type": "display_data"
    }
   ],
   "source": [
    "# Build the Keras model\n",
    "model = models.Sequential([\n",
    "    layers.Input(shape=(train_embeddings.shape[1],)),  # Use Input layer for the shape\n",
    "    layers.Dense(32, activation='relu'),\n",
    "    layers.Dropout(0.5),\n",
    "    layers.Dense(8, activation='relu'),\n",
    "    layers.Dropout(0.5),\n",
    "    layers.Dense(1, activation='sigmoid')\n",
    "])\n",
    "\n",
    "model.compile(\n",
    "    optimizer=optimizers.Adam(),\n",
    "    loss='binary_crossentropy',\n",
    "    metrics=['accuracy']\n",
    ")\n",
    "\n",
    "# Print model summary (number of parameters per layer)\n",
    "print(\"\\nModel summary (number of parameters per layer):\")\n",
    "model.summary()\n"
   ]
  },
  {
   "cell_type": "code",
   "execution_count": 8,
   "metadata": {
    "colab": {
     "base_uri": "https://localhost:8080/"
    },
    "executionInfo": {
     "elapsed": 30339,
     "status": "ok",
     "timestamp": 1747114892615,
     "user": {
      "displayName": "Mohammad Soltanieh Ha",
      "userId": "12308918870841825745"
     },
     "user_tz": 240
    },
    "id": "4lpW1hDoJs-S",
    "outputId": "5d06f34e-ea01-49b9-8eca-6800ce210d52"
   },
   "outputs": [
    {
     "name": "stdout",
     "output_type": "stream",
     "text": [
      "Training with early stopping to find best epoch...\n",
      "Epoch 1/30\n",
      "\u001b[1m338/338\u001b[0m \u001b[32m━━━━━━━━━━━━━━━━━━━━\u001b[0m\u001b[37m\u001b[0m \u001b[1m1s\u001b[0m 918us/step - accuracy: 0.6738 - loss: 0.6193 - val_accuracy: 0.8068 - val_loss: 0.4464\n",
      "Epoch 2/30\n",
      "\u001b[1m338/338\u001b[0m \u001b[32m━━━━━━━━━━━━━━━━━━━━\u001b[0m\u001b[37m\u001b[0m \u001b[1m0s\u001b[0m 683us/step - accuracy: 0.8030 - loss: 0.4825 - val_accuracy: 0.8201 - val_loss: 0.4246\n",
      "Epoch 3/30\n",
      "\u001b[1m338/338\u001b[0m \u001b[32m━━━━━━━━━━━━━━━━━━━━\u001b[0m\u001b[37m\u001b[0m \u001b[1m0s\u001b[0m 672us/step - accuracy: 0.8189 - loss: 0.4513 - val_accuracy: 0.8235 - val_loss: 0.4112\n",
      "Epoch 4/30\n",
      "\u001b[1m338/338\u001b[0m \u001b[32m━━━━━━━━━━━━━━━━━━━━\u001b[0m\u001b[37m\u001b[0m \u001b[1m0s\u001b[0m 655us/step - accuracy: 0.8224 - loss: 0.4463 - val_accuracy: 0.8226 - val_loss: 0.4032\n",
      "Epoch 5/30\n",
      "\u001b[1m338/338\u001b[0m \u001b[32m━━━━━━━━━━━━━━━━━━━━\u001b[0m\u001b[37m\u001b[0m \u001b[1m0s\u001b[0m 663us/step - accuracy: 0.8273 - loss: 0.4361 - val_accuracy: 0.8201 - val_loss: 0.4060\n",
      "Epoch 6/30\n",
      "\u001b[1m338/338\u001b[0m \u001b[32m━━━━━━━━━━━━━━━━━━━━\u001b[0m\u001b[37m\u001b[0m \u001b[1m0s\u001b[0m 660us/step - accuracy: 0.8291 - loss: 0.4347 - val_accuracy: 0.8226 - val_loss: 0.3995\n",
      "Epoch 7/30\n",
      "\u001b[1m338/338\u001b[0m \u001b[32m━━━━━━━━━━━━━━━━━━━━\u001b[0m\u001b[37m\u001b[0m \u001b[1m0s\u001b[0m 928us/step - accuracy: 0.8382 - loss: 0.4097 - val_accuracy: 0.8185 - val_loss: 0.3970\n",
      "Epoch 8/30\n",
      "\u001b[1m338/338\u001b[0m \u001b[32m━━━━━━━━━━━━━━━━━━━━\u001b[0m\u001b[37m\u001b[0m \u001b[1m0s\u001b[0m 829us/step - accuracy: 0.8378 - loss: 0.4103 - val_accuracy: 0.8218 - val_loss: 0.3877\n",
      "Epoch 9/30\n",
      "\u001b[1m338/338\u001b[0m \u001b[32m━━━━━━━━━━━━━━━━━━━━\u001b[0m\u001b[37m\u001b[0m \u001b[1m0s\u001b[0m 736us/step - accuracy: 0.8433 - loss: 0.4079 - val_accuracy: 0.8201 - val_loss: 0.3881\n",
      "Epoch 10/30\n",
      "\u001b[1m338/338\u001b[0m \u001b[32m━━━━━━━━━━━━━━━━━━━━\u001b[0m\u001b[37m\u001b[0m \u001b[1m0s\u001b[0m 690us/step - accuracy: 0.8442 - loss: 0.4010 - val_accuracy: 0.8235 - val_loss: 0.3853\n",
      "Epoch 11/30\n",
      "\u001b[1m338/338\u001b[0m \u001b[32m━━━━━━━━━━━━━━━━━━━━\u001b[0m\u001b[37m\u001b[0m \u001b[1m0s\u001b[0m 686us/step - accuracy: 0.8480 - loss: 0.3904 - val_accuracy: 0.8218 - val_loss: 0.3920\n",
      "Epoch 12/30\n",
      "\u001b[1m338/338\u001b[0m \u001b[32m━━━━━━━━━━━━━━━━━━━━\u001b[0m\u001b[37m\u001b[0m \u001b[1m0s\u001b[0m 684us/step - accuracy: 0.8524 - loss: 0.3799 - val_accuracy: 0.8218 - val_loss: 0.3852\n",
      "Epoch 13/30\n",
      "\u001b[1m338/338\u001b[0m \u001b[32m━━━━━━━━━━━━━━━━━━━━\u001b[0m\u001b[37m\u001b[0m \u001b[1m0s\u001b[0m 675us/step - accuracy: 0.8547 - loss: 0.3744 - val_accuracy: 0.8218 - val_loss: 0.3827\n",
      "Epoch 14/30\n",
      "\u001b[1m338/338\u001b[0m \u001b[32m━━━━━━━━━━━━━━━━━━━━\u001b[0m\u001b[37m\u001b[0m \u001b[1m0s\u001b[0m 942us/step - accuracy: 0.8611 - loss: 0.3702 - val_accuracy: 0.8251 - val_loss: 0.3841\n",
      "Epoch 15/30\n",
      "\u001b[1m338/338\u001b[0m \u001b[32m━━━━━━━━━━━━━━━━━━━━\u001b[0m\u001b[37m\u001b[0m \u001b[1m0s\u001b[0m 787us/step - accuracy: 0.8634 - loss: 0.3538 - val_accuracy: 0.8260 - val_loss: 0.3803\n",
      "Epoch 16/30\n",
      "\u001b[1m338/338\u001b[0m \u001b[32m━━━━━━━━━━━━━━━━━━━━\u001b[0m\u001b[37m\u001b[0m \u001b[1m0s\u001b[0m 812us/step - accuracy: 0.8590 - loss: 0.3635 - val_accuracy: 0.8235 - val_loss: 0.3843\n",
      "Epoch 17/30\n",
      "\u001b[1m338/338\u001b[0m \u001b[32m━━━━━━━━━━━━━━━━━━━━\u001b[0m\u001b[37m\u001b[0m \u001b[1m0s\u001b[0m 831us/step - accuracy: 0.8755 - loss: 0.3391 - val_accuracy: 0.8318 - val_loss: 0.3819\n",
      "Epoch 18/30\n",
      "\u001b[1m338/338\u001b[0m \u001b[32m━━━━━━━━━━━━━━━━━━━━\u001b[0m\u001b[37m\u001b[0m \u001b[1m0s\u001b[0m 827us/step - accuracy: 0.8695 - loss: 0.3419 - val_accuracy: 0.8285 - val_loss: 0.3886\n",
      "Epoch 19/30\n",
      "\u001b[1m338/338\u001b[0m \u001b[32m━━━━━━━━━━━━━━━━━━━━\u001b[0m\u001b[37m\u001b[0m \u001b[1m0s\u001b[0m 822us/step - accuracy: 0.8687 - loss: 0.3549 - val_accuracy: 0.8293 - val_loss: 0.3914\n",
      "Epoch 20/30\n",
      "\u001b[1m338/338\u001b[0m \u001b[32m━━━━━━━━━━━━━━━━━━━━\u001b[0m\u001b[37m\u001b[0m \u001b[1m0s\u001b[0m 790us/step - accuracy: 0.8704 - loss: 0.3412 - val_accuracy: 0.8218 - val_loss: 0.3876\n"
     ]
    }
   ],
   "source": [
    "# Train with early stopping to find best epoch\n",
    "early_stop = callbacks.EarlyStopping(monitor='val_loss', patience=5, restore_best_weights=True)\n",
    "print('Training with early stopping to find best epoch...')\n",
    "history = model.fit(\n",
    "    train_embeddings, train_labels,\n",
    "    epochs=30,\n",
    "    batch_size=32,\n",
    "    validation_split=0.1,\n",
    "    callbacks=[early_stop],\n",
    "    verbose=1\n",
    ")\n"
   ]
  },
  {
   "cell_type": "code",
   "execution_count": 9,
   "metadata": {
    "colab": {
     "base_uri": "https://localhost:8080/",
     "height": 407
    },
    "executionInfo": {
     "elapsed": 714,
     "status": "ok",
     "timestamp": 1747114893331,
     "user": {
      "displayName": "Mohammad Soltanieh Ha",
      "userId": "12308918870841825745"
     },
     "user_tz": 240
    },
    "id": "9AvEawPJJs-S",
    "outputId": "d67c57f7-57dc-485c-8edc-66582708643b"
   },
   "outputs": [
    {
     "data": {
      "image/png": "[encoded data removed]",
      "text/plain": [
       "<Figure size 1200x400 with 2 Axes>"
      ]
     },
     "metadata": {},
     "output_type": "display_data"
    }
   ],
   "source": [
    "# Plot training history\n",
    "plt.figure(figsize=(12, 4))\n",
    "plt.subplot(1, 2, 1)\n",
    "plt.plot(history.history['accuracy'], label='Training Accuracy')\n",
    "plt.plot(history.history['val_accuracy'], label='Validation Accuracy')\n",
    "plt.title('Model Accuracy')\n",
    "plt.xlabel('Epoch')\n",
    "plt.ylabel('Accuracy')\n",
    "plt.legend()\n",
    "\n",
    "plt.subplot(1, 2, 2)\n",
    "plt.plot(history.history['loss'], label='Training Loss')\n",
    "plt.plot(history.history['val_loss'], label='Validation Loss')\n",
    "plt.title('Model Loss')\n",
    "plt.xlabel('Epoch')\n",
    "plt.ylabel('Loss')\n",
    "plt.legend()\n",
    "plt.tight_layout()\n",
    "plt.show()\n"
   ]
  },
  {
   "cell_type": "code",
   "execution_count": 10,
   "metadata": {
    "colab": {
     "base_uri": "https://localhost:8080/"
    },
    "executionInfo": {
     "elapsed": 5,
     "status": "ok",
     "timestamp": 1747114893351,
     "user": {
      "displayName": "Mohammad Soltanieh Ha",
      "userId": "12308918870841825745"
     },
     "user_tz": 240
    },
    "id": "QEldb_RBJs-S",
    "outputId": "94111169-9cc2-4954-987c-63e210510b1f"
   },
   "outputs": [
    {
     "name": "stdout",
     "output_type": "stream",
     "text": [
      "Best number of epochs found: 15\n"
     ]
    }
   ],
   "source": [
    "# Find the best epoch\n",
    "best_epoch = np.argmin(history.history['val_loss']) + 1\n",
    "print(f'Best number of epochs found: {best_epoch}')\n"
   ]
  },
  {
   "cell_type": "code",
   "execution_count": 11,
   "metadata": {
    "colab": {
     "base_uri": "https://localhost:8080/"
    },
    "executionInfo": {
     "elapsed": 22683,
     "status": "ok",
     "timestamp": 1747114916060,
     "user": {
      "displayName": "Mohammad Soltanieh Ha",
      "userId": "12308918870841825745"
     },
     "user_tz": 240
    },
    "id": "F5oZpRX3Js-S",
    "outputId": "1ac41740-b606-491f-a690-2f1fc502bbed"
   },
   "outputs": [
    {
     "name": "stdout",
     "output_type": "stream",
     "text": [
      "Retraining on full training set for 15 epochs...\n",
      "Epoch 1/15\n"
     ]
    },
    {
     "name": "stderr",
     "output_type": "stream",
     "text": [
      "/opt/anaconda3/envs/text_class/lib/python3.12/site-packages/keras/src/layers/core/dense.py:87: UserWarning: Do not pass an `input_shape`/`input_dim` argument to a layer. When using Sequential models, prefer using an `Input(shape)` object as the first layer in the model instead.\n",
      "  super().__init__(activity_regularizer=activity_regularizer, **kwargs)\n"
     ]
    },
    {
     "name": "stdout",
     "output_type": "stream",
     "text": [
      "\u001b[1m376/376\u001b[0m \u001b[32m━━━━━━━━━━━━━━━━━━━━\u001b[0m\u001b[37m\u001b[0m \u001b[1m1s\u001b[0m 627us/step - accuracy: 0.6921 - loss: 0.6000\n",
      "Epoch 2/15\n",
      "\u001b[1m376/376\u001b[0m \u001b[32m━━━━━━━━━━━━━━━━━━━━\u001b[0m\u001b[37m\u001b[0m \u001b[1m0s\u001b[0m 621us/step - accuracy: 0.8035 - loss: 0.4907\n",
      "Epoch 3/15\n",
      "\u001b[1m376/376\u001b[0m \u001b[32m━━━━━━━━━━━━━━━━━━━━\u001b[0m\u001b[37m\u001b[0m \u001b[1m0s\u001b[0m 612us/step - accuracy: 0.8112 - loss: 0.4675\n",
      "Epoch 4/15\n",
      "\u001b[1m376/376\u001b[0m \u001b[32m━━━━━━━━━━━━━━━━━━━━\u001b[0m\u001b[37m\u001b[0m \u001b[1m0s\u001b[0m 604us/step - accuracy: 0.8254 - loss: 0.4477\n",
      "Epoch 5/15\n",
      "\u001b[1m376/376\u001b[0m \u001b[32m━━━━━━━━━━━━━━━━━━━━\u001b[0m\u001b[37m\u001b[0m \u001b[1m0s\u001b[0m 612us/step - accuracy: 0.8200 - loss: 0.4456\n",
      "Epoch 6/15\n",
      "\u001b[1m376/376\u001b[0m \u001b[32m━━━━━━━━━━━━━━━━━━━━\u001b[0m\u001b[37m\u001b[0m \u001b[1m0s\u001b[0m 637us/step - accuracy: 0.8275 - loss: 0.4333\n",
      "Epoch 7/15\n",
      "\u001b[1m376/376\u001b[0m \u001b[32m━━━━━━━━━━━━━━━━━━━━\u001b[0m\u001b[37m\u001b[0m \u001b[1m0s\u001b[0m 614us/step - accuracy: 0.8393 - loss: 0.4170\n",
      "Epoch 8/15\n",
      "\u001b[1m376/376\u001b[0m \u001b[32m━━━━━━━━━━━━━━━━━━━━\u001b[0m\u001b[37m\u001b[0m \u001b[1m0s\u001b[0m 629us/step - accuracy: 0.8398 - loss: 0.4096\n",
      "Epoch 9/15\n",
      "\u001b[1m376/376\u001b[0m \u001b[32m━━━━━━━━━━━━━━━━━━━━\u001b[0m\u001b[37m\u001b[0m \u001b[1m0s\u001b[0m 632us/step - accuracy: 0.8445 - loss: 0.4054\n",
      "Epoch 10/15\n",
      "\u001b[1m376/376\u001b[0m \u001b[32m━━━━━━━━━━━━━━━━━━━━\u001b[0m\u001b[37m\u001b[0m \u001b[1m0s\u001b[0m 630us/step - accuracy: 0.8425 - loss: 0.4017\n",
      "Epoch 11/15\n",
      "\u001b[1m376/376\u001b[0m \u001b[32m━━━━━━━━━━━━━━━━━━━━\u001b[0m\u001b[37m\u001b[0m \u001b[1m0s\u001b[0m 626us/step - accuracy: 0.8459 - loss: 0.3989\n",
      "Epoch 12/15\n",
      "\u001b[1m376/376\u001b[0m \u001b[32m━━━━━━━━━━━━━━━━━━━━\u001b[0m\u001b[37m\u001b[0m \u001b[1m0s\u001b[0m 602us/step - accuracy: 0.8505 - loss: 0.3916\n",
      "Epoch 13/15\n",
      "\u001b[1m376/376\u001b[0m \u001b[32m━━━━━━━━━━━━━━━━━━━━\u001b[0m\u001b[37m\u001b[0m \u001b[1m0s\u001b[0m 627us/step - accuracy: 0.8432 - loss: 0.3919\n",
      "Epoch 14/15\n",
      "\u001b[1m376/376\u001b[0m \u001b[32m━━━━━━━━━━━━━━━━━━━━\u001b[0m\u001b[37m\u001b[0m \u001b[1m0s\u001b[0m 608us/step - accuracy: 0.8536 - loss: 0.3798\n",
      "Epoch 15/15\n",
      "\u001b[1m376/376\u001b[0m \u001b[32m━━━━━━━━━━━━━━━━━━━━\u001b[0m\u001b[37m\u001b[0m \u001b[1m0s\u001b[0m 613us/step - accuracy: 0.8592 - loss: 0.3676\n"
     ]
    },
    {
     "data": {
      "text/plain": [
       "<keras.src.callbacks.history.History at 0x3774ae0c0>"
      ]
     },
     "execution_count": 11,
     "metadata": {},
     "output_type": "execute_result"
    }
   ],
   "source": [
    "# Retrain on the full training set for the best number of epochs\n",
    "final_model = models.Sequential([\n",
    "    layers.Dense(32, activation='relu', input_shape=(train_embeddings.shape[1],)),\n",
    "    layers.Dropout(0.5),\n",
    "    layers.Dense(8, activation='relu'),\n",
    "    layers.Dropout(0.5),\n",
    "    layers.Dense(1, activation='sigmoid')\n",
    "])\n",
    "final_model.compile(\n",
    "    optimizer=optimizers.Adam(),\n",
    "    loss='binary_crossentropy',\n",
    "    metrics=['accuracy']\n",
    ")\n",
    "print(f'Retraining on full training set for {best_epoch} epochs...')\n",
    "final_model.fit(\n",
    "    train_embeddings, train_labels,\n",
    "    epochs=best_epoch,\n",
    "    batch_size=32,\n",
    "    verbose=1\n",
    ")\n"
   ]
  },
  {
   "cell_type": "code",
   "execution_count": 12,
   "metadata": {
    "colab": {
     "base_uri": "https://localhost:8080/"
    },
    "executionInfo": {
     "elapsed": 801,
     "status": "ok",
     "timestamp": 1747114916862,
     "user": {
      "displayName": "Mohammad Soltanieh Ha",
      "userId": "12308918870841825745"
     },
     "user_tz": 240
    },
    "id": "Wd1suXf5Js-S",
    "outputId": "96468f86-6ad9-460e-b63d-ee1f743e3081"
   },
   "outputs": [
    {
     "name": "stdout",
     "output_type": "stream",
     "text": [
      "Evaluating on the test set...\n",
      "\u001b[1m94/94\u001b[0m \u001b[32m━━━━━━━━━━━━━━━━━━━━\u001b[0m\u001b[37m\u001b[0m \u001b[1m0s\u001b[0m 587us/step - accuracy: 0.8480 - loss: 0.3708 \n",
      "Test accuracy: 0.8447, Test loss: 0.3748\n"
     ]
    }
   ],
   "source": [
    "# Evaluate on the test set\n",
    "print('Evaluating on the test set...')\n",
    "test_loss, test_acc = final_model.evaluate(test_embeddings, test_labels, verbose=1)\n",
    "print(f'Test accuracy: {test_acc:.4f}, Test loss: {test_loss:.4f}')\n"
   ]
  },
  {
   "cell_type": "code",
   "execution_count": 13,
   "metadata": {
    "colab": {
     "base_uri": "https://localhost:8080/"
    },
    "executionInfo": {
     "elapsed": 31,
     "status": "ok",
     "timestamp": 1747114916895,
     "user": {
      "displayName": "Mohammad Soltanieh Ha",
      "userId": "12308918870841825745"
     },
     "user_tz": 240
    },
    "id": "cdHgBe0OJs-S",
    "outputId": "12b31857-48c5-4b10-961d-da10795c9e63"
   },
   "outputs": [
    {
     "name": "stdout",
     "output_type": "stream",
     "text": [
      "Final classifier model saved to final_classifier.h5\n"
     ]
    }
   ],
   "source": [
    "# Save the final model\n",
    "final_model.save('final_classifier.h5')\n",
    "print('Final classifier model saved to final_classifier.h5')\n"
   ]
  },
  {
   "cell_type": "code",
   "execution_count": 14,
   "metadata": {
    "colab": {
     "base_uri": "https://localhost:8080/"
    },
    "executionInfo": {
     "elapsed": 569,
     "status": "ok",
     "timestamp": 1747114917467,
     "user": {
      "displayName": "Mohammad Soltanieh Ha",
      "userId": "12308918870841825745"
     },
     "user_tz": 240
    },
    "id": "jr15alsoJs-S",
    "outputId": "3ec453f1-ff3a-4b9f-af24-025ec600497a"
   },
   "outputs": [
    {
     "name": "stdout",
     "output_type": "stream",
     "text": [
      "\u001b[1m94/94\u001b[0m \u001b[32m━━━━━━━━━━━━━━━━━━━━\u001b[0m\u001b[37m\u001b[0m \u001b[1m0s\u001b[0m 544us/step\n",
      "\n",
      "Number of misclassified examples in test set: 466\n",
      "\n",
      "Some misclassified examples (original, true label, predicted label, probability):\n",
      "\n",
      "Text: @MichBell I know, I'm sobbing about how long it's been right now. \n",
      "True label: sarcastic\n",
      "Predicted: literal (prob=0.44)\n",
      "------------------------------------------------------------\n",
      "Text: @josey4628 hahaha i was just there like 2 days ago, freaking hilarious \n",
      "True label: sarcastic\n",
      "Predicted: literal (prob=0.48)\n",
      "------------------------------------------------------------\n",
      "Text: @threnn put it off for ages, but finally caved... when i dropped &amp; killed my iphone last week. boo &amp; yay! hehe \n",
      "True label: sarcastic\n",
      "Predicted: literal (prob=0.43)\n",
      "------------------------------------------------------------\n",
      "Text: @mileycyrus haha my twin sisters love your show..not gna lie i saw it once or twice  lol, you got a sick voice\n",
      "True label: literal\n",
      "Predicted: sarcastic (prob=0.74)\n",
      "------------------------------------------------------------\n",
      "Text: @TaneaK appreciate it! I’m guessing your “exercise” routine is just as intense, right? (Go ahead, admit it) Haha. Great minds really do think alike!\n",
      "True label: literal\n",
      "Predicted: sarcastic (prob=0.93)\n",
      "------------------------------------------------------------\n",
      "Text: So yeah, things aren't going so well for me. I'm getting to feel like I haven't felt in a long, long time. \n",
      "True label: sarcastic\n",
      "Predicted: literal (prob=0.02)\n",
      "------------------------------------------------------------\n",
      "Text: @Tashster Have a cold one for me, I'm just off to work now \n",
      "True label: sarcastic\n",
      "Predicted: literal (prob=0.02)\n",
      "------------------------------------------------------------\n",
      "Text: @techguru23 Honestly, the photos from that phone turned out surprisingly clear #phonephotofail @janedoe go ahead and use that hashtag.\n",
      "True label: literal\n",
      "Predicted: sarcastic (prob=0.67)\n",
      "------------------------------------------------------------\n",
      "Text: @DelvinArnell   I hope all is well. U needing a lawyer and stuff\n",
      "True label: sarcastic\n",
      "Predicted: literal (prob=0.21)\n",
      "------------------------------------------------------------\n",
      "Text: Just thinking about my afternoon margarita—because hydration is overrated, right?\n",
      "True label: sarcastic\n",
      "Predicted: literal (prob=0.38)\n",
      "------------------------------------------------------------\n"
     ]
    }
   ],
   "source": [
    "# Print some examples where the model is making mistakes on the test set\n",
    "\n",
    "# Get model predictions (probabilities and binary)\n",
    "test_pred_probs = final_model.predict(test_embeddings)\n",
    "test_pred_labels = (test_pred_probs.flatten() > 0.5).astype(int)\n",
    "\n",
    "# Find misclassified indices\n",
    "misclassified = np.where(test_pred_labels != test_labels)[0]\n",
    "\n",
    "print(f\"\\nNumber of misclassified examples in test set: {len(misclassified)}\\n\")\n",
    "print(\"Some misclassified examples (original, true label, predicted label, probability):\\n\")\n",
    "\n",
    "# Map label int to string\n",
    "label_map = {1: \"sarcastic\", 0: \"literal\"}\n",
    "\n",
    "for idx in misclassified[:10]:  # Show up to 10 examples\n",
    "    orig = test_df.iloc[idx]['text']\n",
    "    true_label = label_map[test_labels[idx]]\n",
    "    pred_label = label_map[test_pred_labels[idx]]\n",
    "    prob = test_pred_probs[idx][0]\n",
    "    print(f\"Text: {orig}\\nTrue label: {true_label}\\nPredicted: {pred_label} (prob={prob:.2f})\\n{'-'*60}\")\n"
   ]
  },
  {
   "cell_type": "code",
   "execution_count": 15,
   "metadata": {
    "colab": {
     "base_uri": "https://localhost:8080/"
    },
    "executionInfo": {
     "elapsed": 4,
     "status": "ok",
     "timestamp": 1747114917478,
     "user": {
      "displayName": "Mohammad Soltanieh Ha",
      "userId": "12308918870841825745"
     },
     "user_tz": 240
    },
    "id": "BP-hUunSJs-S",
    "outputId": "0ab50e97-f01e-4cfe-982e-8d50c72f7c1b"
   },
   "outputs": [
    {
     "name": "stdout",
     "output_type": "stream",
     "text": [
      "\n",
      "Summary of sources for misclassified test examples (with percentage):\n",
      "real-literal-FP: 151 misclassified out of 218 (69.3%)\n",
      "real-sarcastic-FN: 123 misclassified out of 133 (92.5%)\n",
      "synthetic-literal: 69 misclassified out of 449 (15.4%)\n",
      "real-sarcastic-TP: 64 misclassified out of 754 (8.5%)\n",
      "synthetic-sarcastic: 48 misclassified out of 567 (8.5%)\n",
      "real-literal-TN: 11 misclassified out of 880 (1.2%)\n"
     ]
    }
   ],
   "source": [
    "# Summarize the source of incorrect classifications\n",
    "misclassified_sources = test_df.iloc[misclassified]['source']\n",
    "source_counts = misclassified_sources.value_counts()\n",
    "\n",
    "# Also print percentage of misclassified examples per source\n",
    "# Count total examples per source in the test set\n",
    "total_per_source = test_df['source'].value_counts()\n",
    "\n",
    "print(\"\\nSummary of sources for misclassified test examples (with percentage):\")\n",
    "for source, count in source_counts.items():\n",
    "    total = total_per_source.get(source, 0)\n",
    "    percent = (count / total * 100) if total > 0 else 0\n",
    "    print(f\"{source}: {count} misclassified out of {total} ({percent:.1f}%)\")\n"
   ]
  },
  {
   "cell_type": "code",
   "execution_count": null,
   "metadata": {
    "id": "4p_ojNifJs-T"
   },
   "outputs": [],
   "source": []
  }
 ],
 "metadata": {
  "accelerator": "GPU",
  "colab": {
   "gpuType": "T4",
   "provenance": []
  },
  "kernelspec": {
   "display_name": "text_class",
   "language": "python",
   "name": "python3"
  },
  "language_info": {
   "codemirror_mode": {
    "name": "ipython",
    "version": 3
   },
   "file_extension": ".py",
   "mimetype": "text/x-python",
   "name": "python",
   "nbconvert_exporter": "python",
   "pygments_lexer": "ipython3",
   "version": "3.12.9"
  }
 },
 "nbformat": 4,
 "nbformat_minor": 0
}
